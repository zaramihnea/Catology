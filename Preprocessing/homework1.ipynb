{
 "cells": [
  {
   "cell_type": "code",
   "id": "c90908990d7b8883",
   "metadata": {
    "ExecuteTime": {
     "end_time": "2024-10-24T18:08:59.398449Z",
     "start_time": "2024-10-24T18:08:57.633624Z"
    }
   },
   "source": [
    "import pandas as pd\n",
    "\n",
    "df = pd.read_excel('Dataset (2).xlsx')"
   ],
   "outputs": [],
   "execution_count": 14
  },
  {
   "metadata": {
    "collapsed": true,
    "ExecuteTime": {
     "end_time": "2024-10-24T18:08:59.456638Z",
     "start_time": "2024-10-24T18:08:59.436560Z"
    }
   },
   "cell_type": "code",
   "source": [
    "for column in df.columns:\n",
    "    missing_values_cnt = df[column].isnull().sum()\n",
    "    if missing_values_cnt != 0:\n",
    "        print(f'Column {column} has {missing_values_cnt} missing values')\n",
    "\n",
    "num_duplicates = df.duplicated().sum()\n",
    "print(f'The dataset has {num_duplicates} duplicate values')"
   ],
   "id": "initial_id",
   "outputs": [
    {
     "name": "stdout",
     "output_type": "stream",
     "text": [
      "The dataset has 4 duplicate values\n"
     ]
    }
   ],
   "execution_count": 15
  },
  {
   "metadata": {
    "ExecuteTime": {
     "end_time": "2024-10-24T18:08:59.567639Z",
     "start_time": "2024-10-24T18:08:59.556915Z"
    }
   },
   "cell_type": "code",
   "source": "df.columns",
   "id": "ac832bc46918dab0",
   "outputs": [
    {
     "data": {
      "text/plain": [
       "Index(['Gender', 'Age', 'Race', 'CatsInHouse', 'HousingType', 'Zone',\n",
       "       'TimeOutside', 'TimeWithOwner', 'Shy', 'Calm', 'Skittish',\n",
       "       'Intelligent', 'Vigilant', 'Tenacious', 'Affectionate', 'Friendly',\n",
       "       'Loner', 'Ferocious', 'Territorial', 'Aggressive', 'Impulsive',\n",
       "       'Predictable', 'Inattentive', 'NaturalAreasAbundance', 'BirdsEater',\n",
       "       'MiceEater'],\n",
       "      dtype='object')"
      ]
     },
     "execution_count": 16,
     "metadata": {},
     "output_type": "execute_result"
    }
   ],
   "execution_count": 16
  },
  {
   "metadata": {
    "ExecuteTime": {
     "end_time": "2024-10-24T18:08:59.710664Z",
     "start_time": "2024-10-24T18:08:59.699256Z"
    }
   },
   "cell_type": "code",
   "source": [
    "print(f'Distinct values: {len(df['Race'].value_counts())}')\n",
    "df['Race'].value_counts()"
   ],
   "id": "9cb6b1f332e4bccb",
   "outputs": [
    {
     "name": "stdout",
     "output_type": "stream",
     "text": [
      "Distinct values: 15\n"
     ]
    },
    {
     "data": {
      "text/plain": [
       "Race\n",
       "European            1022\n",
       "NoBreed              483\n",
       "Bengal               239\n",
       "Ragdoll              217\n",
       "MaineCoon            198\n",
       "Birman               192\n",
       "Persian              192\n",
       "BritishShorthair     166\n",
       "Other                135\n",
       "Unknown               80\n",
       "Sphynx                76\n",
       "Siamese               58\n",
       "Chartreux             31\n",
       "TurkishAngora         28\n",
       "Savannah              26\n",
       "Name: count, dtype: int64"
      ]
     },
     "execution_count": 17,
     "metadata": {},
     "output_type": "execute_result"
    }
   ],
   "execution_count": 17
  },
  {
   "metadata": {
    "ExecuteTime": {
     "end_time": "2024-10-24T18:09:03.160288Z",
     "start_time": "2024-10-24T18:08:59.898832Z"
    }
   },
   "cell_type": "code",
   "source": [
    "race_to_analyze = input('What race do you want to analyze? \\\"All\\\" is a option')\n",
    "if race_to_analyze == 'All':\n",
    "    df_filtered = df\n",
    "elif race_to_analyze in df['Race'].unique():\n",
    "    df_filtered = df[df['Race'] == race_to_analyze]\n",
    "else:\n",
    "    print(\"Invalid Race Given\")\n",
    "    df_filtered = None"
   ],
   "id": "e6338be7ba59ed71",
   "outputs": [],
   "execution_count": 18
  },
  {
   "metadata": {
    "ExecuteTime": {
     "end_time": "2024-10-24T18:09:03.308994Z",
     "start_time": "2024-10-24T18:09:03.294812Z"
    }
   },
   "cell_type": "code",
   "source": [
    "print(f'Distinct values: {len(df_filtered['Gender'].value_counts())}')\n",
    "df_filtered['Gender'].value_counts()"
   ],
   "id": "9b8adf64ae246af",
   "outputs": [
    {
     "name": "stdout",
     "output_type": "stream",
     "text": [
      "Distinct values: 3\n"
     ]
    },
    {
     "data": {
      "text/plain": [
       "Gender\n",
       "M          1651\n",
       "F          1486\n",
       "Unknown       6\n",
       "Name: count, dtype: int64"
      ]
     },
     "execution_count": 19,
     "metadata": {},
     "output_type": "execute_result"
    }
   ],
   "execution_count": 19
  },
  {
   "metadata": {
    "ExecuteTime": {
     "end_time": "2024-10-24T18:09:03.521416Z",
     "start_time": "2024-10-24T18:09:03.511640Z"
    }
   },
   "cell_type": "code",
   "source": [
    "print(f'Distinct values: {len(df_filtered['Age'].value_counts())}')\n",
    "df_filtered['Age'].value_counts()"
   ],
   "id": "1398e9ea30116c5d",
   "outputs": [
    {
     "name": "stdout",
     "output_type": "stream",
     "text": [
      "Distinct values: 4\n"
     ]
    },
    {
     "data": {
      "text/plain": [
       "Age\n",
       "2-10 years            1560\n",
       "1-2 years              617\n",
       "Less than 1 year       610\n",
       "More than 10 years     356\n",
       "Name: count, dtype: int64"
      ]
     },
     "execution_count": 20,
     "metadata": {},
     "output_type": "execute_result"
    }
   ],
   "execution_count": 20
  },
  {
   "metadata": {
    "ExecuteTime": {
     "end_time": "2024-10-24T18:09:03.768456Z",
     "start_time": "2024-10-24T18:09:03.750270Z"
    }
   },
   "cell_type": "code",
   "source": [
    "print(f'Distinct values: {len(df_filtered['CatsInHouse'].value_counts())}')\n",
    "df_filtered['CatsInHouse'].value_counts()"
   ],
   "id": "3b048845df560137",
   "outputs": [
    {
     "name": "stdout",
     "output_type": "stream",
     "text": [
      "Distinct values: 5\n"
     ]
    },
    {
     "data": {
      "text/plain": [
       "CatsInHouse\n",
       "1    1282\n",
       "2     974\n",
       "3     364\n",
       "5     321\n",
       "4     202\n",
       "Name: count, dtype: int64"
      ]
     },
     "execution_count": 21,
     "metadata": {},
     "output_type": "execute_result"
    }
   ],
   "execution_count": 21
  },
  {
   "metadata": {
    "ExecuteTime": {
     "end_time": "2024-10-24T18:09:04.063506Z",
     "start_time": "2024-10-24T18:09:04.051301Z"
    }
   },
   "cell_type": "code",
   "source": [
    "print(f'Distinct values: {len(df_filtered['HousingType'].value_counts())}')\n",
    "df_filtered['HousingType'].value_counts()"
   ],
   "id": "2ee711117b39bb9d",
   "outputs": [
    {
     "name": "stdout",
     "output_type": "stream",
     "text": [
      "Distinct values: 4\n"
     ]
    },
    {
     "data": {
      "text/plain": [
       "HousingType\n",
       "Individual house zone                1001\n",
       "House in a subdivision                988\n",
       "Apartment with balcony or terrace     784\n",
       "Apartment without balcony             370\n",
       "Name: count, dtype: int64"
      ]
     },
     "execution_count": 22,
     "metadata": {},
     "output_type": "execute_result"
    }
   ],
   "execution_count": 22
  },
  {
   "metadata": {
    "ExecuteTime": {
     "end_time": "2024-10-24T18:09:04.449899Z",
     "start_time": "2024-10-24T18:09:04.436363Z"
    }
   },
   "cell_type": "code",
   "source": [
    "print(f'Distinct values: {len(df_filtered['Zone'].value_counts())}')\n",
    "df_filtered['Zone'].value_counts()"
   ],
   "id": "fd40686fd9332466",
   "outputs": [
    {
     "name": "stdout",
     "output_type": "stream",
     "text": [
      "Distinct values: 3\n"
     ]
    },
    {
     "data": {
      "text/plain": [
       "Zone\n",
       "Rural        1227\n",
       "Urban        1100\n",
       "Periurban     816\n",
       "Name: count, dtype: int64"
      ]
     },
     "execution_count": 23,
     "metadata": {},
     "output_type": "execute_result"
    }
   ],
   "execution_count": 23
  },
  {
   "metadata": {
    "ExecuteTime": {
     "end_time": "2024-10-24T18:09:04.765422Z",
     "start_time": "2024-10-24T18:09:04.754067Z"
    }
   },
   "cell_type": "code",
   "source": [
    "print(f'Distinct values: {len(df_filtered['TimeOutside'].value_counts())}')\n",
    "df_filtered['TimeOutside'].value_counts()"
   ],
   "id": "94b2a44183fa7fac",
   "outputs": [
    {
     "name": "stdout",
     "output_type": "stream",
     "text": [
      "Distinct values: 5\n"
     ]
    },
    {
     "data": {
      "text/plain": [
       "TimeOutside\n",
       "0    1314\n",
       "2     797\n",
       "1     624\n",
       "3     374\n",
       "4      34\n",
       "Name: count, dtype: int64"
      ]
     },
     "execution_count": 24,
     "metadata": {},
     "output_type": "execute_result"
    }
   ],
   "execution_count": 24
  },
  {
   "metadata": {
    "ExecuteTime": {
     "end_time": "2024-10-24T18:09:05.170346Z",
     "start_time": "2024-10-24T18:09:05.157126Z"
    }
   },
   "cell_type": "code",
   "source": [
    "print(f'Distinct values: {len(df_filtered['TimeWithOwner'].value_counts())}')\n",
    "df_filtered['TimeWithOwner'].value_counts()"
   ],
   "id": "255f35c8dcd990d6",
   "outputs": [
    {
     "name": "stdout",
     "output_type": "stream",
     "text": [
      "Distinct values: 4\n"
     ]
    },
    {
     "data": {
      "text/plain": [
       "TimeWithOwner\n",
       "2    1984\n",
       "3     827\n",
       "1     323\n",
       "0       9\n",
       "Name: count, dtype: int64"
      ]
     },
     "execution_count": 25,
     "metadata": {},
     "output_type": "execute_result"
    }
   ],
   "execution_count": 25
  },
  {
   "metadata": {
    "ExecuteTime": {
     "end_time": "2024-10-24T18:09:05.550696Z",
     "start_time": "2024-10-24T18:09:05.538794Z"
    }
   },
   "cell_type": "code",
   "source": [
    "print(f'Distinct values: {len(df_filtered['Shy'].value_counts())}')\n",
    "df_filtered['Shy'].value_counts()"
   ],
   "id": "cc28a7fcd24173c5",
   "outputs": [
    {
     "name": "stdout",
     "output_type": "stream",
     "text": [
      "Distinct values: 5\n"
     ]
    },
    {
     "data": {
      "text/plain": [
       "Shy\n",
       "1    1081\n",
       "4     704\n",
       "2     648\n",
       "3     437\n",
       "5     273\n",
       "Name: count, dtype: int64"
      ]
     },
     "execution_count": 26,
     "metadata": {},
     "output_type": "execute_result"
    }
   ],
   "execution_count": 26
  },
  {
   "metadata": {
    "ExecuteTime": {
     "end_time": "2024-10-24T18:09:05.971753Z",
     "start_time": "2024-10-24T18:09:05.957255Z"
    }
   },
   "cell_type": "code",
   "source": [
    "print(f'Distinct values: {len(df_filtered['Calm'].value_counts())}')\n",
    "df_filtered['Calm'].value_counts()"
   ],
   "id": "8390024a1c3562d2",
   "outputs": [
    {
     "name": "stdout",
     "output_type": "stream",
     "text": [
      "Distinct values: 5\n"
     ]
    },
    {
     "data": {
      "text/plain": [
       "Calm\n",
       "4    1172\n",
       "5     678\n",
       "2     545\n",
       "3     528\n",
       "1     220\n",
       "Name: count, dtype: int64"
      ]
     },
     "execution_count": 27,
     "metadata": {},
     "output_type": "execute_result"
    }
   ],
   "execution_count": 27
  },
  {
   "metadata": {
    "ExecuteTime": {
     "end_time": "2024-10-24T18:09:06.447098Z",
     "start_time": "2024-10-24T18:09:06.437388Z"
    }
   },
   "cell_type": "code",
   "source": [
    "print(f'Distinct values: {len(df_filtered['Skittish'].value_counts())}')\n",
    "df_filtered['Skittish'].value_counts()"
   ],
   "id": "68aeb9a33f0434aa",
   "outputs": [
    {
     "name": "stdout",
     "output_type": "stream",
     "text": [
      "Distinct values: 5\n"
     ]
    },
    {
     "data": {
      "text/plain": [
       "Skittish\n",
       "1    1004\n",
       "3     815\n",
       "2     680\n",
       "4     439\n",
       "5     205\n",
       "Name: count, dtype: int64"
      ]
     },
     "execution_count": 28,
     "metadata": {},
     "output_type": "execute_result"
    }
   ],
   "execution_count": 28
  },
  {
   "metadata": {
    "ExecuteTime": {
     "end_time": "2024-10-24T18:09:06.943210Z",
     "start_time": "2024-10-24T18:09:06.933050Z"
    }
   },
   "cell_type": "code",
   "source": [
    "print(f'Distinct values: {len(df_filtered['Intelligent'].value_counts())}')\n",
    "df_filtered['Intelligent'].value_counts()"
   ],
   "id": "199b5d04bd61cd59",
   "outputs": [
    {
     "name": "stdout",
     "output_type": "stream",
     "text": [
      "Distinct values: 5\n"
     ]
    },
    {
     "data": {
      "text/plain": [
       "Intelligent\n",
       "5    1329\n",
       "4    1265\n",
       "3     350\n",
       "2     136\n",
       "1      63\n",
       "Name: count, dtype: int64"
      ]
     },
     "execution_count": 29,
     "metadata": {},
     "output_type": "execute_result"
    }
   ],
   "execution_count": 29
  },
  {
   "metadata": {
    "ExecuteTime": {
     "end_time": "2024-10-24T18:09:07.377561Z",
     "start_time": "2024-10-24T18:09:07.367240Z"
    }
   },
   "cell_type": "code",
   "source": [
    "print(f'Distinct values: {len(df_filtered['Vigilant'].value_counts())}')\n",
    "df_filtered['Vigilant'].value_counts()"
   ],
   "id": "6d6c6b35f60404a6",
   "outputs": [
    {
     "name": "stdout",
     "output_type": "stream",
     "text": [
      "Distinct values: 5\n"
     ]
    },
    {
     "data": {
      "text/plain": [
       "Vigilant\n",
       "4    1212\n",
       "5    1048\n",
       "3     477\n",
       "2     275\n",
       "1     131\n",
       "Name: count, dtype: int64"
      ]
     },
     "execution_count": 30,
     "metadata": {},
     "output_type": "execute_result"
    }
   ],
   "execution_count": 30
  },
  {
   "metadata": {
    "ExecuteTime": {
     "end_time": "2024-10-24T18:09:07.884238Z",
     "start_time": "2024-10-24T18:09:07.873677Z"
    }
   },
   "cell_type": "code",
   "source": [
    "print(f'Distinct values: {len(df_filtered['Tenacious'].value_counts())}')\n",
    "df_filtered['Tenacious'].value_counts()"
   ],
   "id": "e7f90180145457e",
   "outputs": [
    {
     "name": "stdout",
     "output_type": "stream",
     "text": [
      "Distinct values: 5\n"
     ]
    },
    {
     "data": {
      "text/plain": [
       "Tenacious\n",
       "4    1116\n",
       "5    1046\n",
       "3     610\n",
       "2     255\n",
       "1     116\n",
       "Name: count, dtype: int64"
      ]
     },
     "execution_count": 31,
     "metadata": {},
     "output_type": "execute_result"
    }
   ],
   "execution_count": 31
  },
  {
   "metadata": {
    "ExecuteTime": {
     "end_time": "2024-10-24T18:09:08.376179Z",
     "start_time": "2024-10-24T18:09:08.367136Z"
    }
   },
   "cell_type": "code",
   "source": [
    "print(f'Distinct values: {len(df_filtered['Affectionate'].value_counts())}')\n",
    "df_filtered['Affectionate'].value_counts()"
   ],
   "id": "7cde7e4515907dd8",
   "outputs": [
    {
     "name": "stdout",
     "output_type": "stream",
     "text": [
      "Distinct values: 5\n"
     ]
    },
    {
     "data": {
      "text/plain": [
       "Affectionate\n",
       "5    1504\n",
       "4     992\n",
       "3     352\n",
       "2     212\n",
       "1      83\n",
       "Name: count, dtype: int64"
      ]
     },
     "execution_count": 32,
     "metadata": {},
     "output_type": "execute_result"
    }
   ],
   "execution_count": 32
  },
  {
   "metadata": {
    "ExecuteTime": {
     "end_time": "2024-10-24T18:09:08.692960Z",
     "start_time": "2024-10-24T18:09:08.679142Z"
    }
   },
   "cell_type": "code",
   "source": [
    "print(f'Distinct values: {len(df_filtered['Friendly'].value_counts())}')\n",
    "df_filtered['Friendly'].value_counts()"
   ],
   "id": "1fbe05ca12e0dba",
   "outputs": [
    {
     "name": "stdout",
     "output_type": "stream",
     "text": [
      "Distinct values: 5\n"
     ]
    },
    {
     "data": {
      "text/plain": [
       "Friendly\n",
       "4    1048\n",
       "5     735\n",
       "3     522\n",
       "2     507\n",
       "1     331\n",
       "Name: count, dtype: int64"
      ]
     },
     "execution_count": 33,
     "metadata": {},
     "output_type": "execute_result"
    }
   ],
   "execution_count": 33
  },
  {
   "metadata": {
    "ExecuteTime": {
     "end_time": "2024-10-24T18:09:09.147648Z",
     "start_time": "2024-10-24T18:09:09.135028Z"
    }
   },
   "cell_type": "code",
   "source": [
    "print(f'Distinct values: {len(df_filtered['Loner'].value_counts())}')\n",
    "df_filtered['Loner'].value_counts()"
   ],
   "id": "2d7949679cdfe3a",
   "outputs": [
    {
     "name": "stdout",
     "output_type": "stream",
     "text": [
      "Distinct values: 5\n"
     ]
    },
    {
     "data": {
      "text/plain": [
       "Loner\n",
       "2    831\n",
       "1    815\n",
       "4    680\n",
       "3    604\n",
       "5    213\n",
       "Name: count, dtype: int64"
      ]
     },
     "execution_count": 34,
     "metadata": {},
     "output_type": "execute_result"
    }
   ],
   "execution_count": 34
  },
  {
   "metadata": {
    "ExecuteTime": {
     "end_time": "2024-10-24T18:09:09.528881Z",
     "start_time": "2024-10-24T18:09:09.516841Z"
    }
   },
   "cell_type": "code",
   "source": [
    "print(f'Distinct values: {len(df_filtered['Loner'].value_counts())}')\n",
    "df_filtered['Loner'].value_counts()"
   ],
   "id": "2a3bae0c56a2f13",
   "outputs": [
    {
     "name": "stdout",
     "output_type": "stream",
     "text": [
      "Distinct values: 5\n"
     ]
    },
    {
     "data": {
      "text/plain": [
       "Loner\n",
       "2    831\n",
       "1    815\n",
       "4    680\n",
       "3    604\n",
       "5    213\n",
       "Name: count, dtype: int64"
      ]
     },
     "execution_count": 35,
     "metadata": {},
     "output_type": "execute_result"
    }
   ],
   "execution_count": 35
  },
  {
   "metadata": {
    "ExecuteTime": {
     "end_time": "2024-10-24T18:09:10.033943Z",
     "start_time": "2024-10-24T18:09:10.021762Z"
    }
   },
   "cell_type": "code",
   "source": [
    "print(f'Distinct values: {len(df_filtered['Ferocious'].value_counts())}')\n",
    "df_filtered['Ferocious'].value_counts()"
   ],
   "id": "86e065f4c8d8082a",
   "outputs": [
    {
     "name": "stdout",
     "output_type": "stream",
     "text": [
      "Distinct values: 5\n"
     ]
    },
    {
     "data": {
      "text/plain": [
       "Ferocious\n",
       "1    1748\n",
       "2     605\n",
       "3     436\n",
       "4     273\n",
       "5      81\n",
       "Name: count, dtype: int64"
      ]
     },
     "execution_count": 36,
     "metadata": {},
     "output_type": "execute_result"
    }
   ],
   "execution_count": 36
  },
  {
   "metadata": {
    "ExecuteTime": {
     "end_time": "2024-10-24T18:09:10.601203Z",
     "start_time": "2024-10-24T18:09:10.586394Z"
    }
   },
   "cell_type": "code",
   "source": [
    "print(f'Distinct values: {len(df_filtered['Territorial'].value_counts())}')\n",
    "df_filtered['Territorial'].value_counts()"
   ],
   "id": "a3969eced96dbb9b",
   "outputs": [
    {
     "name": "stdout",
     "output_type": "stream",
     "text": [
      "Distinct values: 5\n"
     ]
    },
    {
     "data": {
      "text/plain": [
       "Territorial\n",
       "1    1003\n",
       "3     721\n",
       "4     587\n",
       "2     570\n",
       "5     262\n",
       "Name: count, dtype: int64"
      ]
     },
     "execution_count": 37,
     "metadata": {},
     "output_type": "execute_result"
    }
   ],
   "execution_count": 37
  },
  {
   "metadata": {
    "ExecuteTime": {
     "end_time": "2024-10-24T18:09:11.070378Z",
     "start_time": "2024-10-24T18:09:11.058054Z"
    }
   },
   "cell_type": "code",
   "source": [
    "print(f'Distinct values: {len(df_filtered['Aggressive'].value_counts())}')\n",
    "df_filtered['Aggressive'].value_counts()"
   ],
   "id": "c0352030833bcab6",
   "outputs": [
    {
     "name": "stdout",
     "output_type": "stream",
     "text": [
      "Distinct values: 5\n"
     ]
    },
    {
     "data": {
      "text/plain": [
       "Aggressive\n",
       "1    1165\n",
       "3     869\n",
       "2     570\n",
       "4     368\n",
       "5     171\n",
       "Name: count, dtype: int64"
      ]
     },
     "execution_count": 38,
     "metadata": {},
     "output_type": "execute_result"
    }
   ],
   "execution_count": 38
  },
  {
   "metadata": {
    "ExecuteTime": {
     "end_time": "2024-10-24T18:09:11.613800Z",
     "start_time": "2024-10-24T18:09:11.604117Z"
    }
   },
   "cell_type": "code",
   "source": [
    "print(f'Distinct values: {len(df_filtered['Impulsive'].value_counts())}')\n",
    "df_filtered['Impulsive'].value_counts()"
   ],
   "id": "62cca9dbc64ef900",
   "outputs": [
    {
     "name": "stdout",
     "output_type": "stream",
     "text": [
      "Distinct values: 5\n"
     ]
    },
    {
     "data": {
      "text/plain": [
       "Impulsive\n",
       "1    1009\n",
       "3     689\n",
       "2     674\n",
       "4     585\n",
       "5     186\n",
       "Name: count, dtype: int64"
      ]
     },
     "execution_count": 39,
     "metadata": {},
     "output_type": "execute_result"
    }
   ],
   "execution_count": 39
  },
  {
   "metadata": {
    "ExecuteTime": {
     "end_time": "2024-10-24T18:09:12.232138Z",
     "start_time": "2024-10-24T18:09:12.220805Z"
    }
   },
   "cell_type": "code",
   "source": [
    "print(f'Distinct values: {len(df_filtered['Predictable'].value_counts())}')\n",
    "df_filtered['Predictable'].value_counts()"
   ],
   "id": "2903d8ccb93a1eef",
   "outputs": [
    {
     "name": "stdout",
     "output_type": "stream",
     "text": [
      "Distinct values: 5\n"
     ]
    },
    {
     "data": {
      "text/plain": [
       "Predictable\n",
       "4    1278\n",
       "3     786\n",
       "5     428\n",
       "2     374\n",
       "1     277\n",
       "Name: count, dtype: int64"
      ]
     },
     "execution_count": 40,
     "metadata": {},
     "output_type": "execute_result"
    }
   ],
   "execution_count": 40
  },
  {
   "metadata": {
    "ExecuteTime": {
     "end_time": "2024-10-24T18:09:12.869004Z",
     "start_time": "2024-10-24T18:09:12.852458Z"
    }
   },
   "cell_type": "code",
   "source": [
    "print(f'Distinct values: {len(df_filtered['Inattentive'].value_counts())}')\n",
    "df_filtered['Inattentive'].value_counts()"
   ],
   "id": "b189e9cee6af553f",
   "outputs": [
    {
     "name": "stdout",
     "output_type": "stream",
     "text": [
      "Distinct values: 5\n"
     ]
    },
    {
     "data": {
      "text/plain": [
       "Inattentive\n",
       "4    896\n",
       "3    890\n",
       "2    558\n",
       "1    431\n",
       "5    368\n",
       "Name: count, dtype: int64"
      ]
     },
     "execution_count": 41,
     "metadata": {},
     "output_type": "execute_result"
    }
   ],
   "execution_count": 41
  },
  {
   "metadata": {
    "ExecuteTime": {
     "end_time": "2024-10-24T18:09:13.337218Z",
     "start_time": "2024-10-24T18:09:13.324576Z"
    }
   },
   "cell_type": "code",
   "source": [
    "print(f'Distinct values: {len(df_filtered['NaturalAreasAbundance'].value_counts())}')\n",
    "df_filtered['NaturalAreasAbundance'].value_counts()"
   ],
   "id": "b49eb9342790bbef",
   "outputs": [
    {
     "name": "stdout",
     "output_type": "stream",
     "text": [
      "Distinct values: 4\n"
     ]
    },
    {
     "data": {
      "text/plain": [
       "NaturalAreasAbundance\n",
       "3          1338\n",
       "2           851\n",
       "1           714\n",
       "Unknown     240\n",
       "Name: count, dtype: int64"
      ]
     },
     "execution_count": 42,
     "metadata": {},
     "output_type": "execute_result"
    }
   ],
   "execution_count": 42
  },
  {
   "metadata": {
    "ExecuteTime": {
     "end_time": "2024-10-24T18:09:13.925981Z",
     "start_time": "2024-10-24T18:09:13.913155Z"
    }
   },
   "cell_type": "code",
   "source": [
    "print(f'Distinct values: {len(df_filtered['BirdsEater'].value_counts())}')\n",
    "df_filtered['BirdsEater'].value_counts()"
   ],
   "id": "2d39876f71dcde71",
   "outputs": [
    {
     "name": "stdout",
     "output_type": "stream",
     "text": [
      "Distinct values: 5\n"
     ]
    },
    {
     "data": {
      "text/plain": [
       "BirdsEater\n",
       "0    2278\n",
       "1     496\n",
       "2     196\n",
       "3     116\n",
       "4      57\n",
       "Name: count, dtype: int64"
      ]
     },
     "execution_count": 43,
     "metadata": {},
     "output_type": "execute_result"
    }
   ],
   "execution_count": 43
  },
  {
   "metadata": {
    "ExecuteTime": {
     "end_time": "2024-10-24T18:09:14.401231Z",
     "start_time": "2024-10-24T18:09:14.385715Z"
    }
   },
   "cell_type": "code",
   "source": [
    "print(f'Distinct values: {len(df_filtered['MiceEater'].value_counts())}')\n",
    "df_filtered['MiceEater'].value_counts()"
   ],
   "id": "49b5b73091829e3a",
   "outputs": [
    {
     "name": "stdout",
     "output_type": "stream",
     "text": [
      "Distinct values: 5\n"
     ]
    },
    {
     "data": {
      "text/plain": [
       "MiceEater\n",
       "0    2151\n",
       "1     404\n",
       "2     208\n",
       "4     196\n",
       "3     184\n",
       "Name: count, dtype: int64"
      ]
     },
     "execution_count": 44,
     "metadata": {},
     "output_type": "execute_result"
    }
   ],
   "execution_count": 44
  },
  {
   "metadata": {
    "ExecuteTime": {
     "end_time": "2024-10-24T18:09:14.977846Z",
     "start_time": "2024-10-24T18:09:14.960358Z"
    }
   },
   "cell_type": "code",
   "source": "df.info()",
   "id": "90bec061761f22c0",
   "outputs": [
    {
     "name": "stdout",
     "output_type": "stream",
     "text": [
      "<class 'pandas.core.frame.DataFrame'>\n",
      "RangeIndex: 3143 entries, 0 to 3142\n",
      "Data columns (total 26 columns):\n",
      " #   Column                 Non-Null Count  Dtype \n",
      "---  ------                 --------------  ----- \n",
      " 0   Gender                 3143 non-null   object\n",
      " 1   Age                    3143 non-null   object\n",
      " 2   Race                   3143 non-null   object\n",
      " 3   CatsInHouse            3143 non-null   int64 \n",
      " 4   HousingType            3143 non-null   object\n",
      " 5   Zone                   3143 non-null   object\n",
      " 6   TimeOutside            3143 non-null   int64 \n",
      " 7   TimeWithOwner          3143 non-null   int64 \n",
      " 8   Shy                    3143 non-null   int64 \n",
      " 9   Calm                   3143 non-null   int64 \n",
      " 10  Skittish               3143 non-null   int64 \n",
      " 11  Intelligent            3143 non-null   int64 \n",
      " 12  Vigilant               3143 non-null   int64 \n",
      " 13  Tenacious              3143 non-null   int64 \n",
      " 14  Affectionate           3143 non-null   int64 \n",
      " 15  Friendly               3143 non-null   int64 \n",
      " 16  Loner                  3143 non-null   int64 \n",
      " 17  Ferocious              3143 non-null   int64 \n",
      " 18  Territorial            3143 non-null   int64 \n",
      " 19  Aggressive             3143 non-null   int64 \n",
      " 20  Impulsive              3143 non-null   int64 \n",
      " 21  Predictable            3143 non-null   int64 \n",
      " 22  Inattentive            3143 non-null   int64 \n",
      " 23  NaturalAreasAbundance  3143 non-null   object\n",
      " 24  BirdsEater             3143 non-null   int64 \n",
      " 25  MiceEater              3143 non-null   int64 \n",
      "dtypes: int64(20), object(6)\n",
      "memory usage: 638.6+ KB\n"
     ]
    }
   ],
   "execution_count": 45
  },
  {
   "metadata": {
    "ExecuteTime": {
     "end_time": "2024-10-24T18:09:19.981112Z",
     "start_time": "2024-10-24T18:09:15.306814Z"
    }
   },
   "cell_type": "code",
   "source": [
    "import matplotlib.pyplot as plt\n",
    "\n",
    "df.hist(bins=10, figsize=(20, 14))\n",
    "\n",
    "plt.show()"
   ],
   "id": "e7279ba872070a25",
   "outputs": [
    {
     "data": {
      "text/plain": [
       "<Figure size 2000x1400 with 20 Axes>"
      ],
      "image/png": "[encoded data removed]"
     },
     "metadata": {},
     "output_type": "display_data"
    }
   ],
   "execution_count": 46
  },
  {
   "metadata": {
    "ExecuteTime": {
     "end_time": "2024-10-24T18:09:20.728262Z",
     "start_time": "2024-10-24T18:09:20.110284Z"
    }
   },
   "cell_type": "code",
   "source": [
    "df_numeric = df.select_dtypes(include=['number'])\n",
    "numeric_columns = df_numeric.columns.tolist()\n",
    "\n",
    "plt.figure(figsize=(24, 8))\n",
    "plt.boxplot(df_numeric, labels=numeric_columns, showfliers=True) # showfliers = Show outliers\n",
    "plt.show()\n"
   ],
   "id": "1d480c6c069fdfe1",
   "outputs": [
    {
     "data": {
      "text/plain": [
       "<Figure size 2400x800 with 1 Axes>"
      ],
      "image/png": "[encoded data removed]"
     },
     "metadata": {},
     "output_type": "display_data"
    }
   ],
   "execution_count": 47
  },
  {
   "metadata": {
    "ExecuteTime": {
     "end_time": "2024-10-24T18:09:22.709412Z",
     "start_time": "2024-10-24T18:09:20.873440Z"
    }
   },
   "cell_type": "code",
   "source": [
    "from sklearn.compose import ColumnTransformer\n",
    "from sklearn.preprocessing import OneHotEncoder\n",
    "from sklearn.pipeline import Pipeline\n",
    "\n",
    "categorical_column = 'Race'\n",
    "\n",
    "column_transformer = ColumnTransformer(\n",
    "    transformers=[\n",
    "        ('onehot', OneHotEncoder(), [categorical_column]),\n",
    "    ],\n",
    "    remainder='passthrough'\n",
    ")\n",
    "\n",
    "pipeline = Pipeline(steps=[\n",
    "    ('preprocessor', column_transformer)\n",
    "])\n",
    "\n",
    "df_transformed = pipeline.fit_transform(df)\n",
    "\n",
    "feature_names = pipeline.named_steps['preprocessor'].get_feature_names_out()\n",
    "print(feature_names)\n",
    "\n",
    "df_transformed = pd.DataFrame(df_transformed, columns=feature_names)\n",
    "\n",
    "for column in df_transformed.columns:\n",
    "    df_transformed[column] = pd.to_numeric(df_transformed[column], errors='coerce')\n"
   ],
   "id": "d9d1b27bee9c8080",
   "outputs": [
    {
     "name": "stdout",
     "output_type": "stream",
     "text": [
      "['onehot__Race_Bengal' 'onehot__Race_Birman'\n",
      " 'onehot__Race_BritishShorthair' 'onehot__Race_Chartreux'\n",
      " 'onehot__Race_European' 'onehot__Race_MaineCoon' 'onehot__Race_NoBreed'\n",
      " 'onehot__Race_Other' 'onehot__Race_Persian' 'onehot__Race_Ragdoll'\n",
      " 'onehot__Race_Savannah' 'onehot__Race_Siamese' 'onehot__Race_Sphynx'\n",
      " 'onehot__Race_TurkishAngora' 'onehot__Race_Unknown' 'remainder__Gender'\n",
      " 'remainder__Age' 'remainder__CatsInHouse' 'remainder__HousingType'\n",
      " 'remainder__Zone' 'remainder__TimeOutside' 'remainder__TimeWithOwner'\n",
      " 'remainder__Shy' 'remainder__Calm' 'remainder__Skittish'\n",
      " 'remainder__Intelligent' 'remainder__Vigilant' 'remainder__Tenacious'\n",
      " 'remainder__Affectionate' 'remainder__Friendly' 'remainder__Loner'\n",
      " 'remainder__Ferocious' 'remainder__Territorial' 'remainder__Aggressive'\n",
      " 'remainder__Impulsive' 'remainder__Predictable' 'remainder__Inattentive'\n",
      " 'remainder__NaturalAreasAbundance' 'remainder__BirdsEater'\n",
      " 'remainder__MiceEater']\n"
     ]
    }
   ],
   "execution_count": 48
  },
  {
   "metadata": {
    "ExecuteTime": {
     "end_time": "2024-10-24T18:09:22.841039Z",
     "start_time": "2024-10-24T18:09:22.814312Z"
    }
   },
   "cell_type": "code",
   "source": [
    "corr_matrix = df_transformed.corr()\n",
    "\n",
    "corr_matrix['onehot__Race_Bengal'].sort_values(ascending=False)"
   ],
   "id": "8ba3057a3ef4b393",
   "outputs": [
    {
     "data": {
      "text/plain": [
       "onehot__Race_Bengal                 1.000000\n",
       "remainder__Impulsive                0.100949\n",
       "remainder__Ferocious                0.100811\n",
       "remainder__Tenacious                0.100164\n",
       "remainder__Territorial              0.091726\n",
       "remainder__Intelligent              0.069370\n",
       "remainder__Friendly                 0.042223\n",
       "remainder__Inattentive              0.037438\n",
       "remainder__Aggressive               0.016132\n",
       "remainder__Vigilant                 0.014582\n",
       "remainder__Predictable              0.010940\n",
       "remainder__TimeWithOwner            0.010183\n",
       "remainder__CatsInHouse             -0.024214\n",
       "onehot__Race_Savannah              -0.026201\n",
       "onehot__Race_TurkishAngora         -0.027199\n",
       "onehot__Race_Chartreux             -0.028633\n",
       "remainder__Affectionate            -0.030595\n",
       "onehot__Race_Siamese               -0.039336\n",
       "onehot__Race_Sphynx                -0.045160\n",
       "onehot__Race_Unknown               -0.046363\n",
       "remainder__NaturalAreasAbundance   -0.046903\n",
       "onehot__Race_Other                 -0.060776\n",
       "remainder__Skittish                -0.064701\n",
       "remainder__TimeOutside             -0.065187\n",
       "onehot__Race_BritishShorthair      -0.067743\n",
       "remainder__Loner                   -0.068221\n",
       "onehot__Race_Persian               -0.073176\n",
       "onehot__Race_Birman                -0.073176\n",
       "onehot__Race_MaineCoon             -0.074386\n",
       "remainder__MiceEater               -0.075774\n",
       "onehot__Race_Ragdoll               -0.078126\n",
       "remainder__Shy                     -0.085509\n",
       "remainder__BirdsEater              -0.096305\n",
       "onehot__Race_NoBreed               -0.122246\n",
       "onehot__Race_European              -0.199139\n",
       "remainder__Calm                    -0.211795\n",
       "remainder__Gender                        NaN\n",
       "remainder__Age                           NaN\n",
       "remainder__HousingType                   NaN\n",
       "remainder__Zone                          NaN\n",
       "Name: onehot__Race_Bengal, dtype: float64"
      ]
     },
     "execution_count": 49,
     "metadata": {},
     "output_type": "execute_result"
    }
   ],
   "execution_count": 49
  },
  {
   "metadata": {
    "ExecuteTime": {
     "end_time": "2024-10-24T18:09:22.985256Z",
     "start_time": "2024-10-24T18:09:22.975662Z"
    }
   },
   "cell_type": "code",
   "source": "corr_matrix['onehot__Race_Birman'].sort_values(ascending=False)",
   "id": "85f33057f17c7a89",
   "outputs": [
    {
     "data": {
      "text/plain": [
       "onehot__Race_Birman                 1.000000\n",
       "remainder__Friendly                 0.067487\n",
       "remainder__TimeWithOwner            0.049858\n",
       "remainder__Calm                     0.039457\n",
       "remainder__Predictable              0.030968\n",
       "remainder__Affectionate             0.029139\n",
       "remainder__Tenacious                0.015725\n",
       "remainder__Intelligent              0.010535\n",
       "remainder__Inattentive             -0.002134\n",
       "remainder__NaturalAreasAbundance   -0.007495\n",
       "remainder__Skittish                -0.017763\n",
       "onehot__Race_Savannah              -0.023296\n",
       "remainder__Territorial             -0.023534\n",
       "onehot__Race_TurkishAngora         -0.024183\n",
       "onehot__Race_Chartreux             -0.025458\n",
       "remainder__CatsInHouse             -0.027092\n",
       "onehot__Race_Siamese               -0.034975\n",
       "remainder__Vigilant                -0.037988\n",
       "onehot__Race_Sphynx                -0.040153\n",
       "onehot__Race_Unknown               -0.041223\n",
       "remainder__Ferocious               -0.046466\n",
       "remainder__Aggressive              -0.048833\n",
       "remainder__Impulsive               -0.049120\n",
       "remainder__BirdsEater              -0.050745\n",
       "onehot__Race_Other                 -0.054037\n",
       "remainder__Shy                     -0.056474\n",
       "onehot__Race_BritishShorthair      -0.060232\n",
       "remainder__Loner                   -0.062141\n",
       "remainder__MiceEater               -0.064827\n",
       "onehot__Race_Persian               -0.065063\n",
       "onehot__Race_MaineCoon             -0.066139\n",
       "onehot__Race_Ragdoll               -0.069464\n",
       "onehot__Race_Bengal                -0.073176\n",
       "remainder__TimeOutside             -0.091309\n",
       "onehot__Race_NoBreed               -0.108692\n",
       "onehot__Race_European              -0.177060\n",
       "remainder__Gender                        NaN\n",
       "remainder__Age                           NaN\n",
       "remainder__HousingType                   NaN\n",
       "remainder__Zone                          NaN\n",
       "Name: onehot__Race_Birman, dtype: float64"
      ]
     },
     "execution_count": 50,
     "metadata": {},
     "output_type": "execute_result"
    }
   ],
   "execution_count": 50
  },
  {
   "metadata": {
    "ExecuteTime": {
     "end_time": "2024-10-24T18:09:31.323596Z",
     "start_time": "2024-10-24T18:09:31.311749Z"
    }
   },
   "cell_type": "code",
   "source": "corr_matrix['onehot__Race_BritishShorthair'].sort_values(ascending=False)",
   "id": "29d28526b1ff55a6",
   "outputs": [
    {
     "data": {
      "text/plain": [
       "onehot__Race_BritishShorthair       1.000000\n",
       "remainder__Calm                     0.079798\n",
       "remainder__Loner                    0.024228\n",
       "remainder__Skittish                 0.020698\n",
       "remainder__Predictable              0.010459\n",
       "remainder__Shy                      0.002465\n",
       "remainder__Vigilant                -0.004360\n",
       "remainder__Friendly                -0.007986\n",
       "remainder__Intelligent             -0.009751\n",
       "remainder__TimeWithOwner           -0.011171\n",
       "remainder__Inattentive             -0.013115\n",
       "remainder__Tenacious               -0.016749\n",
       "onehot__Race_Savannah              -0.021567\n",
       "onehot__Race_TurkishAngora         -0.022388\n",
       "onehot__Race_Chartreux             -0.023568\n",
       "onehot__Race_Siamese               -0.032378\n",
       "remainder__NaturalAreasAbundance   -0.032703\n",
       "remainder__Aggressive              -0.036234\n",
       "onehot__Race_Sphynx                -0.037172\n",
       "onehot__Race_Unknown               -0.038162\n",
       "remainder__Affectionate            -0.038830\n",
       "remainder__Ferocious               -0.042526\n",
       "onehot__Race_Other                 -0.050026\n",
       "remainder__CatsInHouse             -0.051275\n",
       "remainder__Territorial             -0.052127\n",
       "onehot__Race_Persian               -0.060232\n",
       "onehot__Race_Birman                -0.060232\n",
       "onehot__Race_MaineCoon             -0.061229\n",
       "onehot__Race_Ragdoll               -0.064307\n",
       "onehot__Race_Bengal                -0.067743\n",
       "remainder__MiceEater               -0.068427\n",
       "remainder__BirdsEater              -0.073097\n",
       "remainder__Impulsive               -0.075366\n",
       "remainder__TimeOutside             -0.076313\n",
       "onehot__Race_NoBreed               -0.100623\n",
       "onehot__Race_European              -0.163915\n",
       "remainder__Gender                        NaN\n",
       "remainder__Age                           NaN\n",
       "remainder__HousingType                   NaN\n",
       "remainder__Zone                          NaN\n",
       "Name: onehot__Race_BritishShorthair, dtype: float64"
      ]
     },
     "execution_count": 52,
     "metadata": {},
     "output_type": "execute_result"
    }
   ],
   "execution_count": 52
  },
  {
   "metadata": {
    "ExecuteTime": {
     "end_time": "2024-10-24T18:09:47.867735Z",
     "start_time": "2024-10-24T18:09:47.857179Z"
    }
   },
   "cell_type": "code",
   "source": "corr_matrix['onehot__Race_Chartreux'].sort_values(ascending=False)",
   "id": "9bd4ef58da421900",
   "outputs": [
    {
     "data": {
      "text/plain": [
       "onehot__Race_Chartreux              1.000000\n",
       "remainder__BirdsEater               0.041288\n",
       "remainder__Calm                     0.034195\n",
       "remainder__Territorial              0.027780\n",
       "remainder__MiceEater                0.026052\n",
       "remainder__Friendly                 0.019186\n",
       "remainder__TimeOutside              0.016567\n",
       "remainder__NaturalAreasAbundance    0.012928\n",
       "remainder__Aggressive               0.012040\n",
       "remainder__Vigilant                 0.010800\n",
       "remainder__Loner                    0.008555\n",
       "remainder__Affectionate             0.003961\n",
       "remainder__CatsInHouse              0.001420\n",
       "remainder__Skittish                 0.000358\n",
       "remainder__Predictable              0.000299\n",
       "remainder__Impulsive               -0.007311\n",
       "onehot__Race_Savannah              -0.009115\n",
       "onehot__Race_TurkishAngora         -0.009463\n",
       "remainder__Ferocious               -0.011078\n",
       "remainder__Tenacious               -0.011445\n",
       "onehot__Race_Siamese               -0.013685\n",
       "remainder__TimeWithOwner           -0.015128\n",
       "onehot__Race_Sphynx                -0.015711\n",
       "onehot__Race_Unknown               -0.016130\n",
       "remainder__Intelligent             -0.017732\n",
       "onehot__Race_Other                 -0.021144\n",
       "onehot__Race_BritishShorthair      -0.023568\n",
       "remainder__Inattentive             -0.024100\n",
       "remainder__Shy                     -0.024745\n",
       "onehot__Race_Persian               -0.025458\n",
       "onehot__Race_Birman                -0.025458\n",
       "onehot__Race_MaineCoon             -0.025879\n",
       "onehot__Race_Ragdoll               -0.027180\n",
       "onehot__Race_Bengal                -0.028633\n",
       "onehot__Race_NoBreed               -0.042530\n",
       "onehot__Race_European              -0.069281\n",
       "remainder__Gender                        NaN\n",
       "remainder__Age                           NaN\n",
       "remainder__HousingType                   NaN\n",
       "remainder__Zone                          NaN\n",
       "Name: onehot__Race_Chartreux, dtype: float64"
      ]
     },
     "execution_count": 53,
     "metadata": {},
     "output_type": "execute_result"
    }
   ],
   "execution_count": 53
  },
  {
   "metadata": {
    "ExecuteTime": {
     "end_time": "2024-10-24T18:09:48.401930Z",
     "start_time": "2024-10-24T18:09:48.390118Z"
    }
   },
   "cell_type": "code",
   "source": "corr_matrix['onehot__Race_European'].sort_values(ascending=False)",
   "id": "b6a7cdbee9e13ee6",
   "outputs": [
    {
     "data": {
      "text/plain": [
       "onehot__Race_European               1.000000\n",
       "remainder__TimeOutside              0.225468\n",
       "remainder__BirdsEater               0.192099\n",
       "remainder__MiceEater                0.190225\n",
       "remainder__Shy                      0.141780\n",
       "remainder__Loner                    0.138185\n",
       "remainder__Skittish                 0.109019\n",
       "remainder__Aggressive               0.095033\n",
       "remainder__Vigilant                 0.083810\n",
       "remainder__NaturalAreasAbundance    0.080328\n",
       "remainder__Impulsive                0.080216\n",
       "remainder__Ferocious                0.063914\n",
       "remainder__Territorial              0.037555\n",
       "remainder__Tenacious                0.021529\n",
       "remainder__CatsInHouse              0.019915\n",
       "remainder__Affectionate            -0.009667\n",
       "remainder__TimeWithOwner           -0.017173\n",
       "remainder__Intelligent             -0.020821\n",
       "remainder__Calm                    -0.021861\n",
       "remainder__Predictable             -0.028957\n",
       "remainder__Inattentive             -0.048620\n",
       "onehot__Race_Savannah              -0.063398\n",
       "onehot__Race_TurkishAngora         -0.065812\n",
       "onehot__Race_Chartreux             -0.069281\n",
       "onehot__Race_Siamese               -0.095179\n",
       "onehot__Race_Sphynx                -0.109271\n",
       "onehot__Race_Unknown               -0.112183\n",
       "remainder__Friendly                -0.132902\n",
       "onehot__Race_Other                 -0.147056\n",
       "onehot__Race_BritishShorthair      -0.163915\n",
       "onehot__Race_Persian               -0.177060\n",
       "onehot__Race_Birman                -0.177060\n",
       "onehot__Race_MaineCoon             -0.179989\n",
       "onehot__Race_Ragdoll               -0.189037\n",
       "onehot__Race_Bengal                -0.199139\n",
       "onehot__Race_NoBreed               -0.295793\n",
       "remainder__Gender                        NaN\n",
       "remainder__Age                           NaN\n",
       "remainder__HousingType                   NaN\n",
       "remainder__Zone                          NaN\n",
       "Name: onehot__Race_European, dtype: float64"
      ]
     },
     "execution_count": 54,
     "metadata": {},
     "output_type": "execute_result"
    }
   ],
   "execution_count": 54
  },
  {
   "metadata": {
    "ExecuteTime": {
     "end_time": "2024-10-24T18:09:48.913661Z",
     "start_time": "2024-10-24T18:09:48.902096Z"
    }
   },
   "cell_type": "code",
   "source": "corr_matrix['onehot__Race_MaineCoon'].sort_values(ascending=False)",
   "id": "ff1cfb00fd4c5312",
   "outputs": [
    {
     "data": {
      "text/plain": [
       "onehot__Race_MaineCoon              1.000000\n",
       "remainder__CatsInHouse              0.116927\n",
       "remainder__TimeWithOwner            0.042697\n",
       "remainder__Friendly                 0.042614\n",
       "remainder__Tenacious                0.035886\n",
       "remainder__Inattentive              0.029809\n",
       "remainder__Intelligent              0.024518\n",
       "remainder__Affectionate             0.019989\n",
       "remainder__Ferocious                0.016359\n",
       "remainder__Territorial              0.011143\n",
       "remainder__Vigilant                 0.010099\n",
       "remainder__Predictable             -0.004608\n",
       "remainder__Calm                    -0.011105\n",
       "remainder__NaturalAreasAbundance   -0.012105\n",
       "onehot__Race_Savannah              -0.023681\n",
       "onehot__Race_TurkishAngora         -0.024583\n",
       "onehot__Race_Chartreux             -0.025879\n",
       "onehot__Race_Siamese               -0.035553\n",
       "remainder__Impulsive               -0.036769\n",
       "onehot__Race_Sphynx                -0.040817\n",
       "onehot__Race_Unknown               -0.041905\n",
       "remainder__TimeOutside             -0.050671\n",
       "remainder__BirdsEater              -0.051176\n",
       "remainder__MiceEater               -0.053144\n",
       "onehot__Race_Other                 -0.054931\n",
       "remainder__Shy                     -0.059482\n",
       "onehot__Race_BritishShorthair      -0.061229\n",
       "onehot__Race_Persian               -0.066139\n",
       "onehot__Race_Birman                -0.066139\n",
       "onehot__Race_Ragdoll               -0.070613\n",
       "onehot__Race_Bengal                -0.074386\n",
       "remainder__Loner                   -0.076162\n",
       "remainder__Aggressive              -0.097979\n",
       "remainder__Skittish                -0.108416\n",
       "onehot__Race_NoBreed               -0.110490\n",
       "onehot__Race_European              -0.179989\n",
       "remainder__Gender                        NaN\n",
       "remainder__Age                           NaN\n",
       "remainder__HousingType                   NaN\n",
       "remainder__Zone                          NaN\n",
       "Name: onehot__Race_MaineCoon, dtype: float64"
      ]
     },
     "execution_count": 55,
     "metadata": {},
     "output_type": "execute_result"
    }
   ],
   "execution_count": 55
  },
  {
   "metadata": {
    "ExecuteTime": {
     "end_time": "2024-10-24T18:09:49.248511Z",
     "start_time": "2024-10-24T18:09:49.237461Z"
    }
   },
   "cell_type": "code",
   "source": "corr_matrix['onehot__Race_NoBreed'].sort_values(ascending=False)",
   "id": "a6ede78d6111c18f",
   "outputs": [
    {
     "data": {
      "text/plain": [
       "onehot__Race_NoBreed                1.000000\n",
       "remainder__MiceEater                0.102429\n",
       "remainder__TimeOutside              0.093586\n",
       "remainder__BirdsEater               0.082229\n",
       "remainder__Aggressive               0.080001\n",
       "remainder__Loner                    0.059386\n",
       "remainder__NaturalAreasAbundance    0.051843\n",
       "remainder__Shy                      0.046467\n",
       "remainder__Impulsive                0.039290\n",
       "remainder__Ferocious                0.037432\n",
       "remainder__Skittish                 0.020257\n",
       "remainder__Territorial              0.014051\n",
       "remainder__Calm                     0.008709\n",
       "remainder__Affectionate             0.006289\n",
       "remainder__CatsInHouse              0.001362\n",
       "remainder__Inattentive             -0.000421\n",
       "remainder__Vigilant                -0.001478\n",
       "remainder__Predictable             -0.015882\n",
       "remainder__Tenacious               -0.019734\n",
       "onehot__Race_Savannah              -0.038918\n",
       "onehot__Race_TurkishAngora         -0.040400\n",
       "remainder__Intelligent             -0.041469\n",
       "onehot__Race_Chartreux             -0.042530\n",
       "remainder__TimeWithOwner           -0.049990\n",
       "onehot__Race_Siamese               -0.058428\n",
       "remainder__Friendly                -0.058971\n",
       "onehot__Race_Sphynx                -0.067078\n",
       "onehot__Race_Unknown               -0.068866\n",
       "onehot__Race_Other                 -0.090274\n",
       "onehot__Race_BritishShorthair      -0.100623\n",
       "onehot__Race_Persian               -0.108692\n",
       "onehot__Race_Birman                -0.108692\n",
       "onehot__Race_MaineCoon             -0.110490\n",
       "onehot__Race_Ragdoll               -0.116045\n",
       "onehot__Race_Bengal                -0.122246\n",
       "onehot__Race_European              -0.295793\n",
       "remainder__Gender                        NaN\n",
       "remainder__Age                           NaN\n",
       "remainder__HousingType                   NaN\n",
       "remainder__Zone                          NaN\n",
       "Name: onehot__Race_NoBreed, dtype: float64"
      ]
     },
     "execution_count": 56,
     "metadata": {},
     "output_type": "execute_result"
    }
   ],
   "execution_count": 56
  },
  {
   "metadata": {
    "ExecuteTime": {
     "end_time": "2024-10-24T18:09:49.712210Z",
     "start_time": "2024-10-24T18:09:49.702888Z"
    }
   },
   "cell_type": "code",
   "source": "corr_matrix['onehot__Race_Other'].sort_values(ascending=False)",
   "id": "9e0bc75b130ea695",
   "outputs": [
    {
     "data": {
      "text/plain": [
       "onehot__Race_Other                  1.000000\n",
       "remainder__Friendly                 0.055975\n",
       "remainder__Intelligent              0.041869\n",
       "remainder__CatsInHouse              0.035980\n",
       "remainder__Calm                     0.024417\n",
       "remainder__TimeWithOwner            0.024086\n",
       "remainder__Affectionate             0.023350\n",
       "remainder__Tenacious                0.016172\n",
       "remainder__Inattentive              0.010200\n",
       "remainder__Impulsive                0.004348\n",
       "remainder__Predictable              0.000277\n",
       "remainder__Vigilant                -0.000031\n",
       "remainder__Territorial             -0.003636\n",
       "remainder__MiceEater               -0.016443\n",
       "remainder__Shy                     -0.019311\n",
       "onehot__Race_Savannah              -0.019348\n",
       "onehot__Race_TurkishAngora         -0.020085\n",
       "remainder__BirdsEater              -0.020685\n",
       "onehot__Race_Chartreux             -0.021144\n",
       "remainder__NaturalAreasAbundance   -0.026520\n",
       "onehot__Race_Siamese               -0.029048\n",
       "remainder__Aggressive              -0.033083\n",
       "remainder__Loner                   -0.033214\n",
       "onehot__Race_Sphynx                -0.033349\n",
       "onehot__Race_Unknown               -0.034237\n",
       "remainder__Ferocious               -0.034485\n",
       "remainder__TimeOutside             -0.038574\n",
       "remainder__Skittish                -0.049134\n",
       "onehot__Race_BritishShorthair      -0.050026\n",
       "onehot__Race_Birman                -0.054037\n",
       "onehot__Race_Persian               -0.054037\n",
       "onehot__Race_MaineCoon             -0.054931\n",
       "onehot__Race_Ragdoll               -0.057693\n",
       "onehot__Race_Bengal                -0.060776\n",
       "onehot__Race_NoBreed               -0.090274\n",
       "onehot__Race_European              -0.147056\n",
       "remainder__Gender                        NaN\n",
       "remainder__Age                           NaN\n",
       "remainder__HousingType                   NaN\n",
       "remainder__Zone                          NaN\n",
       "Name: onehot__Race_Other, dtype: float64"
      ]
     },
     "execution_count": 57,
     "metadata": {},
     "output_type": "execute_result"
    }
   ],
   "execution_count": 57
  },
  {
   "metadata": {
    "ExecuteTime": {
     "end_time": "2024-10-24T18:09:51.821905Z",
     "start_time": "2024-10-24T18:09:51.806428Z"
    }
   },
   "cell_type": "code",
   "source": "corr_matrix['onehot__Race_Persian'].sort_values(ascending=False)",
   "id": "99ebe149dbb908c",
   "outputs": [
    {
     "data": {
      "text/plain": [
       "onehot__Race_Persian                1.000000\n",
       "remainder__Calm                     0.097968\n",
       "remainder__Loner                    0.027043\n",
       "remainder__Shy                      0.024337\n",
       "remainder__Skittish                 0.018490\n",
       "remainder__Inattentive              0.005523\n",
       "remainder__Affectionate             0.004791\n",
       "remainder__Friendly                -0.000420\n",
       "remainder__Intelligent             -0.005218\n",
       "remainder__Predictable             -0.010201\n",
       "remainder__Vigilant                -0.018554\n",
       "onehot__Race_Savannah              -0.023296\n",
       "onehot__Race_TurkishAngora         -0.024183\n",
       "onehot__Race_Chartreux             -0.025458\n",
       "remainder__TimeWithOwner           -0.026120\n",
       "remainder__NaturalAreasAbundance   -0.031068\n",
       "onehot__Race_Siamese               -0.034975\n",
       "onehot__Race_Sphynx                -0.040153\n",
       "remainder__CatsInHouse             -0.040418\n",
       "onehot__Race_Unknown               -0.041223\n",
       "remainder__Aggressive              -0.045593\n",
       "onehot__Race_Other                 -0.054037\n",
       "onehot__Race_BritishShorthair      -0.060232\n",
       "onehot__Race_Birman                -0.065063\n",
       "onehot__Race_MaineCoon             -0.066139\n",
       "remainder__Territorial             -0.068587\n",
       "onehot__Race_Ragdoll               -0.069464\n",
       "remainder__Tenacious               -0.072874\n",
       "onehot__Race_Bengal                -0.073176\n",
       "remainder__Ferocious               -0.079783\n",
       "remainder__BirdsEater              -0.081694\n",
       "remainder__MiceEater               -0.091330\n",
       "remainder__TimeOutside             -0.093701\n",
       "remainder__Impulsive               -0.094049\n",
       "onehot__Race_NoBreed               -0.108692\n",
       "onehot__Race_European              -0.177060\n",
       "remainder__Gender                        NaN\n",
       "remainder__Age                           NaN\n",
       "remainder__HousingType                   NaN\n",
       "remainder__Zone                          NaN\n",
       "Name: onehot__Race_Persian, dtype: float64"
      ]
     },
     "execution_count": 58,
     "metadata": {},
     "output_type": "execute_result"
    }
   ],
   "execution_count": 58
  },
  {
   "metadata": {
    "ExecuteTime": {
     "end_time": "2024-10-24T18:09:52.335816Z",
     "start_time": "2024-10-24T18:09:52.323935Z"
    }
   },
   "cell_type": "code",
   "source": "corr_matrix['onehot__Race_Ragdoll'].sort_values(ascending=False)",
   "id": "c95e7cc29525def1",
   "outputs": [
    {
     "data": {
      "text/plain": [
       "onehot__Race_Ragdoll                1.000000\n",
       "remainder__Calm                     0.116246\n",
       "remainder__Friendly                 0.097060\n",
       "remainder__Predictable              0.063041\n",
       "remainder__Inattentive              0.052043\n",
       "remainder__TimeWithOwner            0.013606\n",
       "remainder__Affectionate             0.002335\n",
       "remainder__Skittish                -0.006075\n",
       "onehot__Race_Savannah              -0.024872\n",
       "onehot__Race_TurkishAngora         -0.025819\n",
       "onehot__Race_Chartreux             -0.027180\n",
       "remainder__Intelligent             -0.036208\n",
       "onehot__Race_Siamese               -0.037340\n",
       "onehot__Race_Sphynx                -0.042869\n",
       "onehot__Race_Unknown               -0.044011\n",
       "remainder__CatsInHouse             -0.052291\n",
       "onehot__Race_Other                 -0.057693\n",
       "onehot__Race_BritishShorthair      -0.064307\n",
       "onehot__Race_Persian               -0.069464\n",
       "onehot__Race_Birman                -0.069464\n",
       "onehot__Race_MaineCoon             -0.070613\n",
       "remainder__Aggressive              -0.071207\n",
       "remainder__Shy                     -0.075696\n",
       "onehot__Race_Bengal                -0.078126\n",
       "remainder__Territorial             -0.083088\n",
       "remainder__Tenacious               -0.085862\n",
       "remainder__Impulsive               -0.086078\n",
       "remainder__NaturalAreasAbundance   -0.102543\n",
       "onehot__Race_NoBreed               -0.116045\n",
       "remainder__Loner                   -0.119382\n",
       "remainder__MiceEater               -0.120854\n",
       "remainder__Ferocious               -0.121272\n",
       "remainder__BirdsEater              -0.122618\n",
       "remainder__Vigilant                -0.127724\n",
       "remainder__TimeOutside             -0.131051\n",
       "onehot__Race_European              -0.189037\n",
       "remainder__Gender                        NaN\n",
       "remainder__Age                           NaN\n",
       "remainder__HousingType                   NaN\n",
       "remainder__Zone                          NaN\n",
       "Name: onehot__Race_Ragdoll, dtype: float64"
      ]
     },
     "execution_count": 59,
     "metadata": {},
     "output_type": "execute_result"
    }
   ],
   "execution_count": 59
  },
  {
   "metadata": {
    "ExecuteTime": {
     "end_time": "2024-10-24T18:09:52.642656Z",
     "start_time": "2024-10-24T18:09:52.631126Z"
    }
   },
   "cell_type": "code",
   "source": "corr_matrix['onehot__Race_Savannah'].sort_values(ascending=False)",
   "id": "fac1f9a6f8f77ba1",
   "outputs": [
    {
     "data": {
      "text/plain": [
       "onehot__Race_Savannah               1.000000\n",
       "remainder__Ferocious                0.045074\n",
       "remainder__Territorial              0.042671\n",
       "remainder__Aggressive               0.026033\n",
       "remainder__Impulsive                0.023075\n",
       "remainder__Intelligent              0.021641\n",
       "remainder__CatsInHouse              0.019748\n",
       "remainder__TimeWithOwner            0.017606\n",
       "remainder__Vigilant                 0.013095\n",
       "remainder__NaturalAreasAbundance    0.007459\n",
       "remainder__Shy                      0.007389\n",
       "remainder__Affectionate             0.000127\n",
       "remainder__Tenacious               -0.008164\n",
       "onehot__Race_TurkishAngora         -0.008659\n",
       "onehot__Race_Chartreux             -0.009115\n",
       "onehot__Race_Siamese               -0.012523\n",
       "onehot__Race_Sphynx                -0.014377\n",
       "onehot__Race_Unknown               -0.014760\n",
       "remainder__BirdsEater              -0.016018\n",
       "onehot__Race_Other                 -0.019348\n",
       "remainder__Inattentive             -0.019535\n",
       "onehot__Race_BritishShorthair      -0.021567\n",
       "remainder__Loner                   -0.021614\n",
       "onehot__Race_Persian               -0.023296\n",
       "onehot__Race_Birman                -0.023296\n",
       "onehot__Race_MaineCoon             -0.023681\n",
       "onehot__Race_Ragdoll               -0.024872\n",
       "onehot__Race_Bengal                -0.026201\n",
       "remainder__TimeOutside             -0.027687\n",
       "remainder__Skittish                -0.030413\n",
       "remainder__MiceEater               -0.037476\n",
       "remainder__Friendly                -0.038521\n",
       "onehot__Race_NoBreed               -0.038918\n",
       "remainder__Predictable             -0.046579\n",
       "onehot__Race_European              -0.063398\n",
       "remainder__Calm                    -0.086883\n",
       "remainder__Gender                        NaN\n",
       "remainder__Age                           NaN\n",
       "remainder__HousingType                   NaN\n",
       "remainder__Zone                          NaN\n",
       "Name: onehot__Race_Savannah, dtype: float64"
      ]
     },
     "execution_count": 60,
     "metadata": {},
     "output_type": "execute_result"
    }
   ],
   "execution_count": 60
  },
  {
   "metadata": {
    "ExecuteTime": {
     "end_time": "2024-10-24T18:09:53.029794Z",
     "start_time": "2024-10-24T18:09:53.011496Z"
    }
   },
   "cell_type": "code",
   "source": "corr_matrix['onehot__Race_Siamese'].sort_values(ascending=False)",
   "id": "e26b53209b0ebf35",
   "outputs": [
    {
     "data": {
      "text/plain": [
       "onehot__Race_Siamese                1.000000\n",
       "remainder__Loner                    0.031749\n",
       "remainder__TimeOutside              0.027360\n",
       "remainder__Skittish                 0.022648\n",
       "remainder__Vigilant                 0.021322\n",
       "remainder__Shy                      0.020180\n",
       "remainder__Intelligent              0.018963\n",
       "remainder__Aggressive               0.018091\n",
       "remainder__CatsInHouse              0.015896\n",
       "remainder__Impulsive                0.014906\n",
       "remainder__Territorial              0.010751\n",
       "remainder__Predictable              0.003652\n",
       "remainder__BirdsEater              -0.000043\n",
       "remainder__NaturalAreasAbundance   -0.004408\n",
       "remainder__MiceEater               -0.005475\n",
       "remainder__Friendly                -0.007130\n",
       "onehot__Race_Savannah              -0.012523\n",
       "onehot__Race_TurkishAngora         -0.013000\n",
       "onehot__Race_Chartreux             -0.013685\n",
       "remainder__Tenacious               -0.017983\n",
       "remainder__TimeWithOwner           -0.019757\n",
       "remainder__Ferocious               -0.019795\n",
       "remainder__Inattentive             -0.021241\n",
       "onehot__Race_Sphynx                -0.021584\n",
       "onehot__Race_Unknown               -0.022159\n",
       "remainder__Calm                    -0.022541\n",
       "onehot__Race_Other                 -0.029048\n",
       "remainder__Affectionate            -0.029278\n",
       "onehot__Race_BritishShorthair      -0.032378\n",
       "onehot__Race_Persian               -0.034975\n",
       "onehot__Race_Birman                -0.034975\n",
       "onehot__Race_MaineCoon             -0.035553\n",
       "onehot__Race_Ragdoll               -0.037340\n",
       "onehot__Race_Bengal                -0.039336\n",
       "onehot__Race_NoBreed               -0.058428\n",
       "onehot__Race_European              -0.095179\n",
       "remainder__Gender                        NaN\n",
       "remainder__Age                           NaN\n",
       "remainder__HousingType                   NaN\n",
       "remainder__Zone                          NaN\n",
       "Name: onehot__Race_Siamese, dtype: float64"
      ]
     },
     "execution_count": 61,
     "metadata": {},
     "output_type": "execute_result"
    }
   ],
   "execution_count": 61
  },
  {
   "metadata": {
    "ExecuteTime": {
     "end_time": "2024-10-24T18:09:53.444970Z",
     "start_time": "2024-10-24T18:09:53.433317Z"
    }
   },
   "cell_type": "code",
   "source": "corr_matrix['onehot__Race_Sphynx'].sort_values(ascending=False)",
   "id": "9b0a9bd38b201aa5",
   "outputs": [
    {
     "data": {
      "text/plain": [
       "onehot__Race_Sphynx                 1.000000\n",
       "remainder__Friendly                 0.111296\n",
       "remainder__TimeWithOwner            0.063577\n",
       "remainder__Affectionate             0.040792\n",
       "remainder__Intelligent              0.036784\n",
       "remainder__Tenacious                0.021496\n",
       "remainder__CatsInHouse              0.017809\n",
       "remainder__Predictable              0.003371\n",
       "remainder__Inattentive              0.003196\n",
       "remainder__Ferocious                0.003055\n",
       "remainder__NaturalAreasAbundance   -0.002314\n",
       "onehot__Race_Savannah              -0.014377\n",
       "onehot__Race_TurkishAngora         -0.014925\n",
       "onehot__Race_Chartreux             -0.015711\n",
       "remainder__Vigilant                -0.017053\n",
       "remainder__Territorial             -0.019629\n",
       "onehot__Race_Siamese               -0.021584\n",
       "onehot__Race_Unknown               -0.025440\n",
       "remainder__Impulsive               -0.026140\n",
       "onehot__Race_Other                 -0.033349\n",
       "onehot__Race_BritishShorthair      -0.037172\n",
       "onehot__Race_Persian               -0.040153\n",
       "onehot__Race_Birman                -0.040153\n",
       "onehot__Race_MaineCoon             -0.040817\n",
       "onehot__Race_Ragdoll               -0.042869\n",
       "onehot__Race_Bengal                -0.045160\n",
       "remainder__Calm                    -0.053892\n",
       "remainder__Aggressive              -0.053955\n",
       "remainder__BirdsEater              -0.065256\n",
       "onehot__Race_NoBreed               -0.067078\n",
       "remainder__Skittish                -0.067381\n",
       "remainder__MiceEater               -0.088035\n",
       "remainder__TimeOutside             -0.104523\n",
       "remainder__Loner                   -0.108351\n",
       "onehot__Race_European              -0.109271\n",
       "remainder__Shy                     -0.117409\n",
       "remainder__Gender                        NaN\n",
       "remainder__Age                           NaN\n",
       "remainder__HousingType                   NaN\n",
       "remainder__Zone                          NaN\n",
       "Name: onehot__Race_Sphynx, dtype: float64"
      ]
     },
     "execution_count": 62,
     "metadata": {},
     "output_type": "execute_result"
    }
   ],
   "execution_count": 62
  },
  {
   "metadata": {
    "ExecuteTime": {
     "end_time": "2024-10-24T18:09:59.335050Z",
     "start_time": "2024-10-24T18:09:59.322586Z"
    }
   },
   "cell_type": "code",
   "source": "corr_matrix['onehot__Race_TurkishAngora'].sort_values(ascending=False)",
   "id": "c938c6591e260637",
   "outputs": [
    {
     "data": {
      "text/plain": [
       "onehot__Race_TurkishAngora          1.000000\n",
       "remainder__BirdsEater               0.022378\n",
       "remainder__Vigilant                 0.016451\n",
       "remainder__CatsInHouse              0.013064\n",
       "remainder__Calm                     0.011969\n",
       "remainder__NaturalAreasAbundance    0.010847\n",
       "remainder__Affectionate             0.008926\n",
       "remainder__Tenacious                0.008655\n",
       "remainder__Predictable              0.006764\n",
       "remainder__Skittish                 0.006476\n",
       "remainder__Aggressive               0.004156\n",
       "remainder__Territorial              0.002682\n",
       "remainder__Friendly                -0.000047\n",
       "remainder__Shy                     -0.000251\n",
       "remainder__MiceEater               -0.000583\n",
       "remainder__Impulsive               -0.001447\n",
       "remainder__Loner                   -0.002484\n",
       "remainder__TimeOutside             -0.002947\n",
       "remainder__Ferocious               -0.004066\n",
       "remainder__Intelligent             -0.005894\n",
       "remainder__TimeWithOwner           -0.007573\n",
       "onehot__Race_Savannah              -0.008659\n",
       "onehot__Race_Chartreux             -0.009463\n",
       "onehot__Race_Siamese               -0.013000\n",
       "onehot__Race_Sphynx                -0.014925\n",
       "onehot__Race_Unknown               -0.015322\n",
       "onehot__Race_Other                 -0.020085\n",
       "onehot__Race_BritishShorthair      -0.022388\n",
       "onehot__Race_Persian               -0.024183\n",
       "onehot__Race_Birman                -0.024183\n",
       "onehot__Race_MaineCoon             -0.024583\n",
       "onehot__Race_Ragdoll               -0.025819\n",
       "onehot__Race_Bengal                -0.027199\n",
       "remainder__Inattentive             -0.030358\n",
       "onehot__Race_NoBreed               -0.040400\n",
       "onehot__Race_European              -0.065812\n",
       "remainder__Gender                        NaN\n",
       "remainder__Age                           NaN\n",
       "remainder__HousingType                   NaN\n",
       "remainder__Zone                          NaN\n",
       "Name: onehot__Race_TurkishAngora, dtype: float64"
      ]
     },
     "execution_count": 64,
     "metadata": {},
     "output_type": "execute_result"
    }
   ],
   "execution_count": 64
  },
  {
   "metadata": {
    "ExecuteTime": {
     "end_time": "2024-10-24T18:10:01.232316Z",
     "start_time": "2024-10-24T18:10:01.189324Z"
    }
   },
   "cell_type": "code",
   "source": [
    "abs_corr_matrix = df_transformed.corr().abs()\n",
    "\n",
    "race_columns = [col for col in abs_corr_matrix.columns if col.startswith('onehot__Race_')]\n",
    "\n",
    "avg_abs_corr = abs_corr_matrix[race_columns].mean(axis=1)\n",
    "\n",
    "\n",
    "avg_abs_corr = avg_abs_corr[~avg_abs_corr.index.isin(race_columns)] # Remove races rows\n",
    "\n",
    "sorted_avg_abs_corr = avg_abs_corr.sort_values(ascending=False)\n",
    "sorted_avg_abs_corr"
   ],
   "id": "162c97be995e8f30",
   "outputs": [
    {
     "data": {
      "text/plain": [
       "remainder__TimeOutside              0.072273\n",
       "remainder__MiceEater                0.066446\n",
       "remainder__BirdsEater               0.063991\n",
       "remainder__Calm                     0.056656\n",
       "remainder__Loner                    0.053802\n",
       "remainder__Friendly                 0.046637\n",
       "remainder__Shy                      0.045989\n",
       "remainder__Aggressive               0.044063\n",
       "remainder__Impulsive                0.043998\n",
       "remainder__Ferocious                0.042985\n",
       "remainder__Skittish                 0.036642\n",
       "remainder__Territorial              0.032830\n",
       "remainder__CatsInHouse              0.031803\n",
       "remainder__Tenacious                0.031068\n",
       "remainder__NaturalAreasAbundance    0.030197\n",
       "remainder__TimeWithOwner            0.026691\n",
       "remainder__Intelligent              0.026546\n",
       "remainder__Vigilant                 0.026084\n",
       "remainder__Inattentive              0.020692\n",
       "remainder__Affectionate             0.017732\n",
       "remainder__Predictable              0.017128\n",
       "remainder__Gender                        NaN\n",
       "remainder__Age                           NaN\n",
       "remainder__HousingType                   NaN\n",
       "remainder__Zone                          NaN\n",
       "dtype: float64"
      ]
     },
     "execution_count": 65,
     "metadata": {},
     "output_type": "execute_result"
    }
   ],
   "execution_count": 65
  },
  {
   "metadata": {},
   "cell_type": "markdown",
   "source": [
    "# Summary\n",
    "- Remove Plus column, Row.number, European Timestamp\n",
    "- Translate dataset(especially “Plus column) for the later NLP task\n",
    "- Remove instances where breed is unknown or other\n",
    "- Balance races by deleting the values “Unknown” si “Other”, creating new instances\n",
    "- Do stratified sampling on most important attribute(most correlated with race) for the test set\n",
    "- Drop or impute missing values for attributes\n"
   ],
   "id": "5413d9724dd08a60"
  }
 ],
 "metadata": {
  "kernelspec": {
   "display_name": "Python 3",
   "language": "python",
   "name": "python3"
  },
  "language_info": {
   "codemirror_mode": {
    "name": "ipython",
    "version": 2
   },
   "file_extension": ".py",
   "mimetype": "text/x-python",
   "name": "python",
   "nbconvert_exporter": "python",
   "pygments_lexer": "ipython2",
   "version": "2.7.6"
  }
 },
 "nbformat": 4,
 "nbformat_minor": 5
}
