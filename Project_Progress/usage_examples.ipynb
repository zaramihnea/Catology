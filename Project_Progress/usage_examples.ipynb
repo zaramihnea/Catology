{
 "cells": [
  {
   "cell_type": "code",
   "id": "55d2ed34a8adfc2e",
   "metadata": {
    "ExecuteTime": {
     "end_time": "2024-12-26T18:44:10.350734Z",
     "start_time": "2024-12-26T18:44:10.331072Z"
    }
   },
   "source": [
    "# cat_utils.py\n",
    "import subprocess\n",
    "import sys\n",
    "from typing import Optional\n",
    "\n",
    "def run_cat_script(script_name: str, input_text: str) -> str:\n",
    "    \"\"\"\n",
    "    Run a cat-related script and return its output.\n",
    "    \n",
    "    Args:\n",
    "        script_name (str): Name of the script to run (without .py extension)\n",
    "        input_text (str): Input text for the script\n",
    "        \n",
    "    Returns:\n",
    "        str: Output from the script\n",
    "    \"\"\"\n",
    "    try:\n",
    "        result = subprocess.run(\n",
    "            ['python', f'{script_name}.py', input_text],\n",
    "            capture_output=True,\n",
    "            text=True,\n",
    "            check=True\n",
    "        )\n",
    "        return result.stdout.strip()\n",
    "        \n",
    "    except subprocess.CalledProcessError as e:\n",
    "        print(f\"Error running {script_name}: {e}\", file=sys.stderr)\n",
    "        print(f\"Error output: {e.stderr}\", file=sys.stderr)\n",
    "        return f\"Error: Failed to run {script_name}\"\n",
    "    except Exception as e:\n",
    "        print(f\"Unexpected error: {e}\", file=sys.stderr)\n",
    "        return \"Error: Unexpected error occurred\""
   ],
   "outputs": [],
   "execution_count": 19
  },
  {
   "metadata": {
    "ExecuteTime": {
     "end_time": "2024-12-26T18:53:24.018026Z",
     "start_time": "2024-12-26T18:53:10.050223Z"
    }
   },
   "cell_type": "code",
   "source": [
    "# Example 1: Predict cat breed\n",
    "description = \"My cat is hairless, very intelligent, affectionate and shy\"\n",
    "predicted_breed = run_cat_script('CatDescriptionToBreed', description)\n",
    "print(\"\\nExample 1: Breed Prediction\")\n",
    "print(f\"Description: '{description}'\")\n",
    "print(f\"Predicted breed: {predicted_breed}\")"
   ],
   "id": "913e2de751dd0176",
   "outputs": [
    {
     "name": "stdout",
     "output_type": "stream",
     "text": [
      "\n",
      "Example 1: Breed Prediction\n",
      "Description: 'My cat is hairless, very intelligent, affectionate and shy'\n",
      "Predicted breed: Based on your description of a hairless, intelligent, affectionate, and shy cat, I'm pretty confident (100%) that you have a Sphynx!  Their lack of fur, coupled with their often affectionate but shy nature, is a classic Sphynx trait.  I think you've got a real beauty!\n"
     ]
    }
   ],
   "execution_count": 23
  },
  {
   "metadata": {
    "collapsed": true,
    "ExecuteTime": {
     "end_time": "2024-12-26T18:45:26.277775Z",
     "start_time": "2024-12-26T18:45:13.160110Z"
    }
   },
   "cell_type": "code",
   "source": [
    "# Example 2: Get breed description\n",
    "breed_query = \"Please describe the cat breed Sphynx to me\"\n",
    "breed_description = run_cat_script('BreedDescription', breed_query)\n",
    "print(\"\\nExample 2: Breed Description\")\n",
    "print(f\"Query: '{breed_query}'\")\n",
    "print(f\"Description: {breed_description}\")"
   ],
   "id": "initial_id",
   "outputs": [
    {
     "name": "stdout",
     "output_type": "stream",
     "text": [
      "\n",
      "Example 2: Breed Description\n",
      "Query: 'Please describe the cat breed Sphynx to me'\n",
      "Description: The Sphynx, a breed known for its striking lack of coat, is a fascinating feline companion.  With an average age of around 3 years in our study, these cats often live in multi-cat households (around 2 on average), though they aren't particularly demanding of outdoor time – a quick 12 minutes or so a day usually suffices.  They're intensely bonded with their humans, readily dedicating over two hours daily to interaction.  Despite their sometimes skittish nature (a 1.8 on a 5-point scale), Sphynx cats are far from shy (1.3) and demonstrate impressive intelligence (a remarkable 4.4). Their vigilant (3.6) and tenacious (4.0) personalities are balanced by surprising affection (4.5) and friendliness (4.4).  They are not loners (1.4) and are generally not aggressive (1.8) or ferocious (1.7), although a hint of impulsiveness (2.1) might occasionally surprise their owners. They're reasonably predictable (3.3), though not always attentive (2.9).  A calm demeanor (3.0) usually prevails, making them delightful companions.  While often found in apartments with balconies or terraces in rural settings, their hunting instincts are low, rarely engaging in bird or small mammal captures.  In short, the male Sphynx, with its distinctive hairless coat and solid color pattern, is an intelligent, affectionate, and relatively low-maintenance cat that thrives on human interaction despite its independent streak.  The non-flat face completes their unique and endearing appearance.\n"
     ]
    }
   ],
   "execution_count": 20
  },
  {
   "metadata": {
    "ExecuteTime": {
     "end_time": "2024-12-26T18:50:14.486782Z",
     "start_time": "2024-12-26T18:49:58.044047Z"
    }
   },
   "cell_type": "code",
   "source": [
    "comparison_query = \"Compare Sphynx and Persian cats\"\n",
    "breed_comparison = run_cat_script('BreedComparison', comparison_query)\n",
    "print(\"\\nExample 3: Breed Comparison\")\n",
    "print(f\"Query: '{comparison_query}'\")\n",
    "print(f\"Comparison: {breed_comparison}\")"
   ],
   "id": "69ddfa64fafac958",
   "outputs": [
    {
     "name": "stdout",
     "output_type": "stream",
     "text": [
      "\n",
      "Example 3: Breed Comparison\n",
      "Query: 'Compare Sphynx and Persian cats'\n",
      "Comparison: Let's compare Sphynx and Persian cats, highlighting their key distinctions and similarities.\n",
      "\n",
      "**1. Key Personality Differences:**\n",
      "\n",
      "Both breeds are generally affectionate and intelligent, scoring highly in those categories (Sphynx: Affectionate 4.5, Intelligent 4.4; Persian: Affectionate 4.2, Intelligent 4.1).  However, their approach to affection and interaction differs.  The Sphynx, while incredibly affectionate (4.5), displays more energy and inquisitiveness.  Their higher scores in \"Vigilant\" (3.6) and \"Tenacious\" (4.0) suggest a more active and persistent cat, perhaps even demanding of attention.  Conversely, the Persian, although still affectionate, is calmer (4.0) and less impulsive (1.8) than the Sphynx (Impulsive 2.1).  The Persian's higher \"Calm\" score points to a more laid-back temperament.  The Sphynx exhibits a slightly higher tendency towards skittishness (1.8) compared to the Persian (2.5), although neither scores particularly high in this area.  Importantly, both breeds are relatively low on aggression and ferocity, suggesting they are generally good-natured companions.\n",
      "\n",
      "\n",
      "**2. Physical Characteristics:**\n",
      "\n",
      "The most striking difference lies in their coat. The Sphynx is hairless, resulting in unique skin texture and temperature regulation needs.  The Persian, on the other hand, boasts a long, luxurious coat, requiring significantly more grooming.  The Persian also has a flat face (brachycephalic), a feature not present in the Sphynx.  This flat face can lead to certain health considerations discussed later. Both cats are males in this example.\n",
      "\n",
      "\n",
      "**3. Living Habits and Preferences:**\n",
      "\n",
      "Both cats are relatively indoor cats, indicated by their low \"Time spent outside\" scores (Sphynx: 0.2; Persian: 0.5).  However, the Persian's slightly higher score suggests a greater tolerance for brief outdoor excursions, perhaps under strict supervision.  Both cats spend a considerable amount of time with their owners (Sphynx: 2.3; Persian: 2.0).  The Sphynx, with its higher \"Inattentive\" score (2.9) compared to the Persian (3.0), might seem less focused at times, whereas the Persian shows slightly more focus but remains within a similar range. The Sphynx lives in an apartment with a balcony or terrace in a rural zone, while the Persian resides in a house in a subdivision within a rural area.  Neither displays significant hunting behavior (near zero scores for bird and small mammal captures).\n",
      "\n",
      "\n",
      "**4. Care Requirements based on Traits:**\n",
      "\n",
      "* **Sphynx:** Due to their lack of fur, Sphynx cats require regular bathing to manage skin oils and keep them clean.  Their higher energy levels necessitate engaging playtime and mental stimulation. Because they are somewhat more inattentive, training might require more patience and positive reinforcement.\n",
      "* **Persian:**  The Persian's long coat necessitates daily brushing to prevent matting and tangles.  Their brachycephalic features predispose them to potential respiratory problems and eye issues, requiring attentive monitoring and potentially specialized care.  Their calmer nature doesn't necessitate as much high-energy play as the Sphynx but still benefits from interaction.\n",
      "\n",
      "\n",
      "**Summary:**\n",
      "\n",
      "While both Sphynx and Persian cats make affectionate companions, their personalities and care needs differ significantly.  The Sphynx is a more energetic and demanding cat, requiring more playful interaction and unique grooming practices. The Persian, while still affectionate, is calmer and more laid-back, demanding more attention to its coat and potential health concerns associated with its brachycephalic features.  Choosing between them depends entirely on the owner's lifestyle and preferences, but understanding these crucial differences will greatly assist in selecting the right feline companion.\n"
     ]
    }
   ],
   "execution_count": 21
  }
 ],
 "metadata": {
  "kernelspec": {
   "display_name": "Python 3",
   "language": "python",
   "name": "python3"
  },
  "language_info": {
   "codemirror_mode": {
    "name": "ipython",
    "version": 2
   },
   "file_extension": ".py",
   "mimetype": "text/x-python",
   "name": "python",
   "nbconvert_exporter": "python",
   "pygments_lexer": "ipython2",
   "version": "2.7.6"
  }
 },
 "nbformat": 4,
 "nbformat_minor": 5
}
