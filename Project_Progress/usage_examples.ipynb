{
 "cells": [
  {
   "cell_type": "code",
   "id": "initial_id",
   "metadata": {
    "collapsed": true,
    "ExecuteTime": {
     "end_time": "2024-12-26T18:17:34.517675Z",
     "start_time": "2024-12-26T18:17:21.488940Z"
    }
   },
   "source": [
    "import subprocess\n",
    "import sys\n",
    "\n",
    "def predict_cat_breed(description: str) -> str:\n",
    "    \"\"\"\n",
    "    Run the cat breed prediction script and return the result.\n",
    "    \n",
    "    Args:\n",
    "        description (str): Description of the cat\n",
    "        \n",
    "    Returns:\n",
    "        str: Predicted cat breed\n",
    "    \"\"\"\n",
    "    try:\n",
    "        # Run the prediction script\n",
    "        result = subprocess.run(\n",
    "            ['python', 'CatDescriptionToBreed.py', description],\n",
    "            capture_output=True,\n",
    "            text=True,\n",
    "            check=True\n",
    "        )\n",
    "        \n",
    "        # Return the predicted breed (last line of output)\n",
    "        return result.stdout.strip()\n",
    "        \n",
    "    except subprocess.CalledProcessError as e:\n",
    "        print(f\"Error running prediction script: {e}\", file=sys.stderr)\n",
    "        print(f\"Error output: {e.stderr}\", file=sys.stderr)\n",
    "        return \"Error: Failed to predict breed\"\n",
    "    except Exception as e:\n",
    "        print(f\"Unexpected error: {e}\", file=sys.stderr)\n",
    "        return \"Error: Unexpected error occurred\"\n",
    "\n",
    "def main():\n",
    "    # Example usage\n",
    "    description = \"My cat is very intelligent, affectionate and shy\"\n",
    "    predicted_breed = predict_cat_breed(description)\n",
    "    print(f\"\\nPredicted breed for description: '{description}'\")\n",
    "    print(f\"Result: {predicted_breed}\")\n",
    "\n",
    "if __name__ == \"__main__\":\n",
    "    main()\n"
   ],
   "outputs": [
    {
     "name": "stdout",
     "output_type": "stream",
     "text": [
      "\n",
      "Predicted breed for description: 'My cat is very intelligent, affectionate and shy'\n",
      "Result: No breed\n"
     ]
    }
   ],
   "execution_count": 18
  },
  {
   "metadata": {},
   "cell_type": "code",
   "outputs": [],
   "execution_count": null,
   "source": "",
   "id": "d378b849aa584161"
  }
 ],
 "metadata": {
  "kernelspec": {
   "display_name": "Python 3",
   "language": "python",
   "name": "python3"
  },
  "language_info": {
   "codemirror_mode": {
    "name": "ipython",
    "version": 2
   },
   "file_extension": ".py",
   "mimetype": "text/x-python",
   "name": "python",
   "nbconvert_exporter": "python",
   "pygments_lexer": "ipython2",
   "version": "2.7.6"
  }
 },
 "nbformat": 4,
 "nbformat_minor": 5
}
