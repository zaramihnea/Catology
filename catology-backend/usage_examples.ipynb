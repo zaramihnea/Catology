{
 "cells": [
  {
   "cell_type": "code",
   "execution_count": 29,
   "id": "22425a4a220e9a61",
   "metadata": {
    "ExecuteTime": {
     "end_time": "2024-12-26T19:16:28.707275Z",
     "start_time": "2024-12-26T19:16:28.696631Z"
    }
   },
   "outputs": [],
   "source": [
    "# cat_utils.py\n",
    "import subprocess\n",
    "import sys\n",
    "from typing import Optional\n",
    "\n",
    "def run_cat_script(script_name: str, input_text: str) -> str:\n",
    "    \"\"\"\n",
    "    Run a cat-related script and return its output.\n",
    "    \n",
    "    Args:\n",
    "        script_name (str): Name of the script to run (without .py extension)\n",
    "        input_text (str): Input text for the script\n",
    "        \n",
    "    Returns:\n",
    "        str: Output from the script\n",
    "    \"\"\"\n",
    "    try:\n",
    "        result = subprocess.run(\n",
    "            ['python', f'{script_name}.py', input_text],\n",
    "            capture_output=True,\n",
    "            text=True,\n",
    "            check=True\n",
    "        )\n",
    "        return result.stdout.strip()\n",
    "        \n",
    "    except subprocess.CalledProcessError as e:\n",
    "        print(f\"Error running {script_name}: {e}\", file=sys.stderr)\n",
    "        print(f\"Error output: {e.stderr}\", file=sys.stderr)\n",
    "        return f\"Error: Failed to run {script_name}\"\n",
    "    except Exception as e:\n",
    "        print(f\"Unexpected error: {e}\", file=sys.stderr)\n",
    "        return \"Error: Unexpected error occurred\"\n",
    "\n",
    "def process_cat_query(query: str) -> str:\n",
    "    \"\"\"\n",
    "    Process a cat-related query by first classifying it and then running appropriate script.\n",
    "    \n",
    "    Args:\n",
    "        query (str): User's query about cats\n",
    "        \n",
    "    Returns:\n",
    "        str: Response from appropriate script\n",
    "    \"\"\"\n",
    "    # First, classify the query\n",
    "    query_type = run_cat_script('QueryClassifier', query)\n",
    "    \n",
    "    # Based on classification, run appropriate script\n",
    "    if query_type == \"Description\":\n",
    "        return run_cat_script('BreedDescription', query)\n",
    "    elif query_type == \"Comparison\":\n",
    "        return run_cat_script('BreedComparison', query)\n",
    "    elif query_type == \"Prediction\":\n",
    "        return run_cat_script('CatDescriptionToBreed', query)\n",
    "    else:\n",
    "        return query_type  # Returns the help message"
   ]
  },
  {
   "cell_type": "code",
   "execution_count": 40,
   "id": "f59211b115eca52c",
   "metadata": {
    "ExecuteTime": {
     "end_time": "2024-12-26T19:25:19.418087Z",
     "start_time": "2024-12-26T19:25:00.229619Z"
    }
   },
   "outputs": [
    {
     "name": "stdout",
     "output_type": "stream",
     "text": [
      "\n",
      "Example 1: Breed Description Query\n",
      "Query: 'Tell me about Sphynx cats'\n",
      "Response: The Sphynx cat, a breed known for its striking lack of coat, is a fascinating and often misunderstood feline.  On average, they reach maturity around three years of age and are frequently found in households with another cat companion. While they may venture outside occasionally (about twelve minutes a day on average), their true home is indoors, ideally in an apartment with a balcony or terrace, even in rural areas.\n",
      "\n",
      "Despite their often quirky appearance, Sphynx cats are surprisingly affectionate and friendly creatures, readily bonding with their owners and showering them with attention (around two and a half hours a day, on average!).  Their intelligence is noteworthy – they’re quick learners, eager to engage, and display a definite tenacious streak when they set their minds on something.  They are certainly not aloof;  loner tendencies are minimal, while their calmness and predictability make them reasonably easy to live with, though their vigilance ensures they’re always alert to their surroundings.  \n",
      "\n",
      "While affectionate, they aren't overly impulsive or aggressive; a slight skittishness might be observed initially, but they generally settle in well.  They are not overtly territorial, and while fiercely independent, they do value their human companions' company.  The occasional display of impulsiveness or inattentiveness is to be expected, but overall they strike a good balance between playful independence and devoted companionship.  Note that the lack of hunting instinct is very significant (virtually no bird or small mammal captures reported), making them low-maintenance from a prey-drive perspective. In short, the Sphynx cat offers a unique blend of charm, intelligence, and affectionate devotion, making them wonderful companions for the right owner.\n"
     ]
    }
   ],
   "source": [
    "# Example 1: Breed Description Query\n",
    "query1 = \"Tell me about Sphynx cats\"\n",
    "print(\"\\nExample 1: Breed Description Query\")\n",
    "print(f\"Query: '{query1}'\")\n",
    "print(f\"Response: {process_cat_query(query1)}\")\n",
    "    "
   ]
  },
  {
   "cell_type": "code",
   "execution_count": 39,
   "id": "dcd7935014b19ae7",
   "metadata": {
    "ExecuteTime": {
     "end_time": "2024-12-26T19:24:50.690221Z",
     "start_time": "2024-12-26T19:24:28.964818Z"
    }
   },
   "outputs": [
    {
     "name": "stdout",
     "output_type": "stream",
     "text": [
      "\n",
      "Example 2: Breed Comparison Query\n",
      "Query: 'Compare Sphynx and Persian cats'\n",
      "Response: Let's compare Sphynx and Persian cats, highlighting their key differences and similarities.\n",
      "\n",
      "**1. Key Personality Differences:**\n",
      "\n",
      "Both breeds exhibit a generally affectionate and intelligent nature, but their personalities diverge in several key aspects.  Sphynx cats score significantly higher on \"Intelligent\" (4.4 vs 4.1), \"Tenacious\" (4.0 vs 3.5), and \"Affectionate\" (4.5 vs 4.2), suggesting they might be more intellectually stimulating, determined, and cuddly.  Conversely, Persians are notably calmer (4.0 vs 3.0) and less skittish (2.5 vs 1.8).  The Sphynx's higher scores in \"Vigilant\" (3.6 vs 3.8) and \"Impulsive\" (2.1 vs 1.8) suggest a more alert but potentially less predictable nature compared to the more even-tempered Persian.  The Sphynx also shows a greater tendency to be a loner (1.4 vs 2.5),  while the Persian is slightly more prone to territorial behavior (2.0 vs 2.1).  Both breeds score low on aggression and ferociousness, indicating a generally friendly disposition.\n",
      "\n",
      "**2. Physical Characteristics:**\n",
      "\n",
      "The most striking difference lies in their coat: the Sphynx is hairless, while the Persian boasts a luxurious long coat, typically in a colorpoint pattern.  The Persian also has a flat face (brachycephalic), a characteristic not present in the Sphynx.  These physical differences significantly impact their care requirements.\n",
      "\n",
      "**3. Living Habits and Preferences:**\n",
      "\n",
      "Both cats spend minimal time outdoors (0.2 vs 0.5 days), indicating a preference for indoor living.  However, the Sphynx spends significantly more time with its owner (2.3 vs 2.0 days), suggesting a greater need for interaction and companionship.  While both live in rural zones, their housing differs—the Sphynx in an apartment with a balcony or terrace, and the Persian in a house in a subdivision.  Neither breed shows a significant hunting instinct, with minimal bird or small mammal captures.\n",
      "\n",
      "**4. Care Requirements based on Traits:**\n",
      "\n",
      "* **Grooming:** The Sphynx requires minimal grooming, focusing on regular bathing to remove oils.  The Persian, conversely, needs daily brushing to prevent matting and tangles in its long coat.\n",
      "\n",
      "* **Attention and Interaction:** The Sphynx’s higher \"Affectionate\" score and greater time spent with the owner suggest a need for regular playtime and interaction.  While Persians are also affectionate, they may be more content with less frequent, but equally loving attention.\n",
      "\n",
      "* **Environmental Enrichment:**  Both breeds are intelligent, benefiting from puzzle feeders and interactive toys to keep them mentally stimulated.  The Sphynx’s higher \"Intelligent\" and \"Tenacious\" scores might suggest a preference for more complex puzzles.\n",
      "\n",
      "* **Health Considerations:**  Both breeds are prone to specific health issues. Persians are predisposed to breathing problems due to their flat faces and polycystic kidney disease.  Sphynx cats can be sensitive to temperature changes and are susceptible to sunburn.\n",
      "\n",
      "In summary, while both Sphynx and Persian cats are affectionate and intelligent companions, their personalities, physical characteristics, and hence their care requirements differ considerably. The Sphynx is a more active, playful, and demanding cat requiring regular interaction, while the Persian is calmer, independent, and needs dedicated grooming.  Choosing between them depends on your lifestyle and preferences. A potential owner should carefully weigh these differences before deciding which breed is the right fit for their home.\n"
     ]
    }
   ],
   "source": [
    "# Example 2: Breed Comparison Query\n",
    "query2 = \"Compare Sphynx and Persian cats\"\n",
    "print(\"\\nExample 2: Breed Comparison Query\")\n",
    "print(f\"Query: '{query2}'\")\n",
    "print(f\"Response: {process_cat_query(query2)}\")\n",
    "    "
   ]
  },
  {
   "cell_type": "code",
   "execution_count": 30,
   "id": "7de1fa64cb672c5",
   "metadata": {
    "ExecuteTime": {
     "end_time": "2024-12-26T19:16:51.158743Z",
     "start_time": "2024-12-26T19:16:30.891760Z"
    }
   },
   "outputs": [
    {
     "name": "stdout",
     "output_type": "stream",
     "text": [
      "\n",
      "Example 3: Breed Prediction Query\n",
      "Query: 'My cat is hairless, very intelligent, affectionate and shy'\n",
      "Response: Based on your description of a hairless, intelligent, affectionate, yet shy cat, I'm almost certain (99% confident!) that you have a Sphynx!  Their unique lack of coat, combined with their often sweet but reserved personalities, perfectly matches what you've told me.\n"
     ]
    }
   ],
   "source": [
    "# Example 3: Breed Prediction Query\n",
    "query3 = \"My cat is hairless, very intelligent, affectionate and shy\"\n",
    "print(\"\\nExample 3: Breed Prediction Query\")\n",
    "print(f\"Query: '{query3}'\")\n",
    "print(f\"Response: {process_cat_query(query3)}\")\n",
    "    "
   ]
  },
  {
   "cell_type": "code",
   "execution_count": 38,
   "id": "55d2ed34a8adfc2e",
   "metadata": {
    "ExecuteTime": {
     "end_time": "2024-12-26T19:23:37.189284Z",
     "start_time": "2024-12-26T19:23:31.384265Z"
    }
   },
   "outputs": [
    {
     "name": "stdout",
     "output_type": "stream",
     "text": [
      "\n",
      "Example 4: Invalid Query\n",
      "Query: 'What is life?'\n",
      "Response: That's a very big question!  I can help you with information about specific cat breeds, comparing breeds, or even guessing a breed based on its traits.  Perhaps you'd like to ask me something more specific?\n"
     ]
    }
   ],
   "source": [
    "# Example 4: Invalid Query\n",
    "query4 = \"What do cats eat?\"\n",
    "print(\"\\nExample 4: Invalid Query\")\n",
    "print(f\"Query: '{query4}'\")\n",
    "print(f\"Response: {process_cat_query(query4)}\")"
   ]
  }
 ],
 "metadata": {
  "kernelspec": {
   "display_name": "Python 3",
   "language": "python",
   "name": "python3"
  },
  "language_info": {
   "codemirror_mode": {
    "name": "ipython",
    "version": 2
   },
   "file_extension": ".py",
   "mimetype": "text/x-python",
   "name": "python",
   "nbconvert_exporter": "python",
   "pygments_lexer": "ipython2",
   "version": "3.10.16"
  }
 },
 "nbformat": 4,
 "nbformat_minor": 5
}
